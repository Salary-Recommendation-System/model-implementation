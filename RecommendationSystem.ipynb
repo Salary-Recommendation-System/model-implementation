{
 "cells": [
  {
   "cell_type": "code",
   "execution_count": 379,
   "id": "025943a8",
   "metadata": {},
   "outputs": [
    {
     "name": "stdout",
     "output_type": "stream",
     "text": [
      "Requirement already satisfied: scikit-learn in c:\\users\\shaza\\anaconda3\\lib\\site-packages (1.2.2)\n",
      "Requirement already satisfied: scipy>=1.3.2 in c:\\users\\shaza\\anaconda3\\lib\\site-packages (from scikit-learn) (1.9.1)\n",
      "Requirement already satisfied: joblib>=1.1.1 in c:\\users\\shaza\\anaconda3\\lib\\site-packages (from scikit-learn) (1.2.0)\n",
      "Requirement already satisfied: numpy>=1.17.3 in c:\\users\\shaza\\anaconda3\\lib\\site-packages (from scikit-learn) (1.21.5)\n",
      "Requirement already satisfied: threadpoolctl>=2.0.0 in c:\\users\\shaza\\anaconda3\\lib\\site-packages (from scikit-learn) (2.2.0)\n",
      "Note: you may need to restart the kernel to use updated packages.\n"
     ]
    },
    {
     "name": "stderr",
     "output_type": "stream",
     "text": [
      "\n",
      "[notice] A new release of pip is available: 23.0.1 -> 23.1.1\n",
      "[notice] To update, run: python.exe -m pip install --upgrade pip\n"
     ]
    }
   ],
   "source": [
    "pip install -U scikit-learn"
   ]
  },
  {
   "cell_type": "code",
   "execution_count": 380,
   "id": "c489b7f1",
   "metadata": {},
   "outputs": [],
   "source": [
    "# Importing the Libraries that is needed for the implementation\n",
    "import numpy as np\n",
    "import pandas as pd\n",
    "\n",
    "# for data visualizations\n",
    "import matplotlib.pyplot as plt\n",
    "from sklearn.metrics.pairwise import cosine_similarity\n",
    "from sklearn.feature_extraction.text import TfidfVectorizer\n",
    "from sklearn.preprocessing import LabelEncoder\n",
    "import pickle\n",
    "from sklearn.metrics import accuracy_score, precision_score, recall_score, f1_score, roc_auc_score, confusion_matrix, matthews_corrcoef, cohen_kappa_score, balanced_accuracy_score, log_loss,roc_curve\n",
    "from sklearn.ensemble import RandomForestClassifier\n",
    "from sklearn.model_selection import train_test_split\n",
    "from sklearn import preprocessing\n",
    "from copy import copy,deepcopy"
   ]
  },
  {
   "cell_type": "code",
   "execution_count": 381,
   "id": "8fffd1ac",
   "metadata": {},
   "outputs": [],
   "source": [
    "salary_information_data = pd.read_csv('SalaryDetails.csv')"
   ]
  },
  {
   "cell_type": "code",
   "execution_count": 382,
   "id": "4ea4c568",
   "metadata": {},
   "outputs": [
    {
     "data": {
      "text/plain": [
       "(1052, 19)"
      ]
     },
     "execution_count": 382,
     "metadata": {},
     "output_type": "execute_result"
    }
   ],
   "source": [
    "salary_information_data.shape"
   ]
  },
  {
   "cell_type": "code",
   "execution_count": 383,
   "id": "35d0fb3e",
   "metadata": {},
   "outputs": [
    {
     "data": {
      "text/html": [
       "<div>\n",
       "<style scoped>\n",
       "    .dataframe tbody tr th:only-of-type {\n",
       "        vertical-align: middle;\n",
       "    }\n",
       "\n",
       "    .dataframe tbody tr th {\n",
       "        vertical-align: top;\n",
       "    }\n",
       "\n",
       "    .dataframe thead th {\n",
       "        text-align: right;\n",
       "    }\n",
       "</style>\n",
       "<table border=\"1\" class=\"dataframe\">\n",
       "  <thead>\n",
       "    <tr style=\"text-align: right;\">\n",
       "      <th></th>\n",
       "      <th>Id</th>\n",
       "      <th>Amount</th>\n",
       "      <th>Currency</th>\n",
       "      <th>Year</th>\n",
       "      <th>Work experience</th>\n",
       "      <th>Education</th>\n",
       "      <th>Company size</th>\n",
       "      <th>Designation</th>\n",
       "      <th>Status</th>\n",
       "      <th>Created at</th>\n",
       "      <th>Updated at</th>\n",
       "      <th>Primary technology</th>\n",
       "      <th>Pegged salary</th>\n",
       "      <th>Advice</th>\n",
       "      <th>Company base lk</th>\n",
       "      <th>Id [Salary votes]</th>\n",
       "      <th>Vote type [Salary votes]</th>\n",
       "      <th>Created at [Salary votes]</th>\n",
       "      <th>Updated at [Salary votes]</th>\n",
       "    </tr>\n",
       "  </thead>\n",
       "  <tbody>\n",
       "    <tr>\n",
       "      <th>0</th>\n",
       "      <td>3</td>\n",
       "      <td>120000</td>\n",
       "      <td>LKR</td>\n",
       "      <td>2018</td>\n",
       "      <td>1_to_3</td>\n",
       "      <td>bachelors_degree</td>\n",
       "      <td>100_to_500</td>\n",
       "      <td>senior_software_engineer</td>\n",
       "      <td>approved</td>\n",
       "      <td>5/24/2022 14:42</td>\n",
       "      <td>5/24/2022 14:42</td>\n",
       "      <td>reactjs</td>\n",
       "      <td>nil</td>\n",
       "      <td>-</td>\n",
       "      <td>True</td>\n",
       "      <td>NaN</td>\n",
       "      <td>NaN</td>\n",
       "      <td>NaN</td>\n",
       "      <td>NaN</td>\n",
       "    </tr>\n",
       "    <tr>\n",
       "      <th>1</th>\n",
       "      <td>4</td>\n",
       "      <td>65000</td>\n",
       "      <td>LKR</td>\n",
       "      <td>2020</td>\n",
       "      <td>1_to_3</td>\n",
       "      <td>bachelors_degree</td>\n",
       "      <td>100_to_500</td>\n",
       "      <td>associate_software_engineer</td>\n",
       "      <td>approved</td>\n",
       "      <td>5/24/2022 14:45</td>\n",
       "      <td>5/24/2022 14:45</td>\n",
       "      <td>javascript</td>\n",
       "      <td>nil</td>\n",
       "      <td>-</td>\n",
       "      <td>True</td>\n",
       "      <td>14</td>\n",
       "      <td>accurate</td>\n",
       "      <td>5/25/2022 11:29</td>\n",
       "      <td>5/25/2022 11:29</td>\n",
       "    </tr>\n",
       "    <tr>\n",
       "      <th>2</th>\n",
       "      <td>5</td>\n",
       "      <td>230000</td>\n",
       "      <td>LKR</td>\n",
       "      <td>2022</td>\n",
       "      <td>1_to_3</td>\n",
       "      <td>bachelors_degree</td>\n",
       "      <td>100_to_500</td>\n",
       "      <td>software_engineer</td>\n",
       "      <td>approved</td>\n",
       "      <td>5/24/2022 14:47</td>\n",
       "      <td>5/24/2022 14:47</td>\n",
       "      <td>-</td>\n",
       "      <td>nil</td>\n",
       "      <td>-</td>\n",
       "      <td>True</td>\n",
       "      <td>NaN</td>\n",
       "      <td>NaN</td>\n",
       "      <td>NaN</td>\n",
       "      <td>NaN</td>\n",
       "    </tr>\n",
       "    <tr>\n",
       "      <th>3</th>\n",
       "      <td>6</td>\n",
       "      <td>260000</td>\n",
       "      <td>LKR</td>\n",
       "      <td>2022</td>\n",
       "      <td>7_to_9</td>\n",
       "      <td>bachelors_degree</td>\n",
       "      <td>100_to_500</td>\n",
       "      <td>senior_ui_ux_engineer</td>\n",
       "      <td>approved</td>\n",
       "      <td>5/24/2022 15:11</td>\n",
       "      <td>5/24/2022 15:11</td>\n",
       "      <td>css</td>\n",
       "      <td>nil</td>\n",
       "      <td>-</td>\n",
       "      <td>True</td>\n",
       "      <td>7,10</td>\n",
       "      <td>fake,accurate</td>\n",
       "      <td>May 24, 2022 16:00,May 24, 2022 18:17</td>\n",
       "      <td>May 24, 2022 16:00,May 24, 2022 18:17</td>\n",
       "    </tr>\n",
       "    <tr>\n",
       "      <th>4</th>\n",
       "      <td>7</td>\n",
       "      <td>120000</td>\n",
       "      <td>LKR</td>\n",
       "      <td>2022</td>\n",
       "      <td>1_to_3</td>\n",
       "      <td>bachelors_degree</td>\n",
       "      <td>20_to_50</td>\n",
       "      <td>software_engineer</td>\n",
       "      <td>approved</td>\n",
       "      <td>5/24/2022 15:19</td>\n",
       "      <td>5/24/2022 15:19</td>\n",
       "      <td>php</td>\n",
       "      <td>nil</td>\n",
       "      <td>-</td>\n",
       "      <td>True</td>\n",
       "      <td>NaN</td>\n",
       "      <td>NaN</td>\n",
       "      <td>NaN</td>\n",
       "      <td>NaN</td>\n",
       "    </tr>\n",
       "  </tbody>\n",
       "</table>\n",
       "</div>"
      ],
      "text/plain": [
       "   Id  Amount Currency  Year Work experience         Education Company size  \\\n",
       "0   3  120000      LKR  2018          1_to_3  bachelors_degree   100_to_500   \n",
       "1   4   65000      LKR  2020          1_to_3  bachelors_degree   100_to_500   \n",
       "2   5  230000      LKR  2022          1_to_3  bachelors_degree   100_to_500   \n",
       "3   6  260000      LKR  2022          7_to_9  bachelors_degree   100_to_500   \n",
       "4   7  120000      LKR  2022          1_to_3  bachelors_degree     20_to_50   \n",
       "\n",
       "                   Designation    Status       Created at       Updated at  \\\n",
       "0     senior_software_engineer  approved  5/24/2022 14:42  5/24/2022 14:42   \n",
       "1  associate_software_engineer  approved  5/24/2022 14:45  5/24/2022 14:45   \n",
       "2            software_engineer  approved  5/24/2022 14:47  5/24/2022 14:47   \n",
       "3        senior_ui_ux_engineer  approved  5/24/2022 15:11  5/24/2022 15:11   \n",
       "4            software_engineer  approved  5/24/2022 15:19  5/24/2022 15:19   \n",
       "\n",
       "  Primary technology Pegged salary Advice Company base lk Id [Salary votes]  \\\n",
       "0            reactjs           nil     -             True               NaN   \n",
       "1         javascript           nil     -             True                14   \n",
       "2                 -            nil     -             True               NaN   \n",
       "3                css           nil     -             True              7,10   \n",
       "4                php           nil     -             True               NaN   \n",
       "\n",
       "  Vote type [Salary votes]              Created at [Salary votes]  \\\n",
       "0                      NaN                                    NaN   \n",
       "1                 accurate                        5/25/2022 11:29   \n",
       "2                      NaN                                    NaN   \n",
       "3            fake,accurate  May 24, 2022 16:00,May 24, 2022 18:17   \n",
       "4                      NaN                                    NaN   \n",
       "\n",
       "               Updated at [Salary votes]  \n",
       "0                                    NaN  \n",
       "1                        5/25/2022 11:29  \n",
       "2                                    NaN  \n",
       "3  May 24, 2022 16:00,May 24, 2022 18:17  \n",
       "4                                    NaN  "
      ]
     },
     "execution_count": 383,
     "metadata": {},
     "output_type": "execute_result"
    }
   ],
   "source": [
    "salary_information_data.head(5)"
   ]
  },
  {
   "cell_type": "code",
   "execution_count": 384,
   "id": "7768e398",
   "metadata": {},
   "outputs": [
    {
     "data": {
      "text/plain": [
       "Id                              0\n",
       "Amount                          0\n",
       "Currency                        0\n",
       "Year                            0\n",
       "Work experience                 0\n",
       "Education                       0\n",
       "Company size                    0\n",
       "Designation                     0\n",
       "Status                          0\n",
       "Created at                    621\n",
       "Updated at                    621\n",
       "Primary technology            621\n",
       "Pegged salary                 595\n",
       "Advice                        621\n",
       "Company base lk               595\n",
       "Id [Salary votes]            1025\n",
       "Vote type [Salary votes]     1025\n",
       "Created at [Salary votes]    1025\n",
       "Updated at [Salary votes]    1025\n",
       "dtype: int64"
      ]
     },
     "execution_count": 384,
     "metadata": {},
     "output_type": "execute_result"
    }
   ],
   "source": [
    "salary_information_data.isnull().sum()"
   ]
  },
  {
   "cell_type": "code",
   "execution_count": 385,
   "id": "ae9ef2cb",
   "metadata": {},
   "outputs": [],
   "source": [
    "#Removing unwanted columns from the dataset\n",
    "salary_information_data = salary_information_data.drop(['Id [Salary votes]',\n",
    "                                                        'Vote type [Salary votes]',\n",
    "                                                        'Created at [Salary votes]',\n",
    "                                                        'Updated at [Salary votes]','Created at','Updated at',\n",
    "                                                        'Pegged salary','Company base lk'], axis =1)"
   ]
  },
  {
   "cell_type": "code",
   "execution_count": 386,
   "id": "cd0f8740",
   "metadata": {},
   "outputs": [
    {
     "data": {
      "text/plain": [
       "Index(['Id', 'Amount', 'Currency', 'Year', 'Work experience', 'Education',\n",
       "       'Company size', 'Designation', 'Status', 'Primary technology',\n",
       "       'Advice'],\n",
       "      dtype='object')"
      ]
     },
     "execution_count": 386,
     "metadata": {},
     "output_type": "execute_result"
    }
   ],
   "source": [
    "salary_information_data.columns"
   ]
  },
  {
   "cell_type": "code",
   "execution_count": 387,
   "id": "7d3a8f3a",
   "metadata": {},
   "outputs": [
    {
     "data": {
      "text/html": [
       "<div>\n",
       "<style scoped>\n",
       "    .dataframe tbody tr th:only-of-type {\n",
       "        vertical-align: middle;\n",
       "    }\n",
       "\n",
       "    .dataframe tbody tr th {\n",
       "        vertical-align: top;\n",
       "    }\n",
       "\n",
       "    .dataframe thead th {\n",
       "        text-align: right;\n",
       "    }\n",
       "</style>\n",
       "<table border=\"1\" class=\"dataframe\">\n",
       "  <thead>\n",
       "    <tr style=\"text-align: right;\">\n",
       "      <th></th>\n",
       "      <th>Id</th>\n",
       "      <th>Amount</th>\n",
       "      <th>Currency</th>\n",
       "      <th>Year</th>\n",
       "      <th>Work experience</th>\n",
       "      <th>Education</th>\n",
       "      <th>Company size</th>\n",
       "      <th>Designation</th>\n",
       "      <th>Status</th>\n",
       "      <th>Primary technology</th>\n",
       "      <th>Advice</th>\n",
       "    </tr>\n",
       "  </thead>\n",
       "  <tbody>\n",
       "    <tr>\n",
       "      <th>0</th>\n",
       "      <td>3</td>\n",
       "      <td>120000</td>\n",
       "      <td>LKR</td>\n",
       "      <td>2018</td>\n",
       "      <td>1_to_3</td>\n",
       "      <td>bachelors_degree</td>\n",
       "      <td>100_to_500</td>\n",
       "      <td>senior_software_engineer</td>\n",
       "      <td>approved</td>\n",
       "      <td>reactjs</td>\n",
       "      <td>-</td>\n",
       "    </tr>\n",
       "    <tr>\n",
       "      <th>1</th>\n",
       "      <td>4</td>\n",
       "      <td>65000</td>\n",
       "      <td>LKR</td>\n",
       "      <td>2020</td>\n",
       "      <td>1_to_3</td>\n",
       "      <td>bachelors_degree</td>\n",
       "      <td>100_to_500</td>\n",
       "      <td>associate_software_engineer</td>\n",
       "      <td>approved</td>\n",
       "      <td>javascript</td>\n",
       "      <td>-</td>\n",
       "    </tr>\n",
       "    <tr>\n",
       "      <th>2</th>\n",
       "      <td>5</td>\n",
       "      <td>230000</td>\n",
       "      <td>LKR</td>\n",
       "      <td>2022</td>\n",
       "      <td>1_to_3</td>\n",
       "      <td>bachelors_degree</td>\n",
       "      <td>100_to_500</td>\n",
       "      <td>software_engineer</td>\n",
       "      <td>approved</td>\n",
       "      <td>-</td>\n",
       "      <td>-</td>\n",
       "    </tr>\n",
       "    <tr>\n",
       "      <th>3</th>\n",
       "      <td>6</td>\n",
       "      <td>260000</td>\n",
       "      <td>LKR</td>\n",
       "      <td>2022</td>\n",
       "      <td>7_to_9</td>\n",
       "      <td>bachelors_degree</td>\n",
       "      <td>100_to_500</td>\n",
       "      <td>senior_ui_ux_engineer</td>\n",
       "      <td>approved</td>\n",
       "      <td>css</td>\n",
       "      <td>-</td>\n",
       "    </tr>\n",
       "    <tr>\n",
       "      <th>4</th>\n",
       "      <td>7</td>\n",
       "      <td>120000</td>\n",
       "      <td>LKR</td>\n",
       "      <td>2022</td>\n",
       "      <td>1_to_3</td>\n",
       "      <td>bachelors_degree</td>\n",
       "      <td>20_to_50</td>\n",
       "      <td>software_engineer</td>\n",
       "      <td>approved</td>\n",
       "      <td>php</td>\n",
       "      <td>-</td>\n",
       "    </tr>\n",
       "  </tbody>\n",
       "</table>\n",
       "</div>"
      ],
      "text/plain": [
       "   Id  Amount Currency  Year Work experience         Education Company size  \\\n",
       "0   3  120000      LKR  2018          1_to_3  bachelors_degree   100_to_500   \n",
       "1   4   65000      LKR  2020          1_to_3  bachelors_degree   100_to_500   \n",
       "2   5  230000      LKR  2022          1_to_3  bachelors_degree   100_to_500   \n",
       "3   6  260000      LKR  2022          7_to_9  bachelors_degree   100_to_500   \n",
       "4   7  120000      LKR  2022          1_to_3  bachelors_degree     20_to_50   \n",
       "\n",
       "                   Designation    Status Primary technology Advice  \n",
       "0     senior_software_engineer  approved            reactjs     -   \n",
       "1  associate_software_engineer  approved         javascript     -   \n",
       "2            software_engineer  approved                 -      -   \n",
       "3        senior_ui_ux_engineer  approved                css     -   \n",
       "4            software_engineer  approved                php     -   "
      ]
     },
     "execution_count": 387,
     "metadata": {},
     "output_type": "execute_result"
    }
   ],
   "source": [
    "salary_information_data.head()"
   ]
  },
  {
   "cell_type": "code",
   "execution_count": 388,
   "id": "78753b27",
   "metadata": {},
   "outputs": [],
   "source": [
    "salary_information_data = salary_information_data.drop(['Advice','Primary technology'], axis =1)"
   ]
  },
  {
   "cell_type": "code",
   "execution_count": 389,
   "id": "e4ecfefc",
   "metadata": {},
   "outputs": [
    {
     "data": {
      "text/plain": [
       "above_500        496\n",
       "100_to_500       231\n",
       "more_than_500    134\n",
       "50_to_100         65\n",
       "20_to_50          50\n",
       "10_to_20          30\n",
       "below_10          14\n",
       "50 - 100           7\n",
       " -                 6\n",
       "100 - 200          5\n",
       "10 - 50            5\n",
       "10_to_50           2\n",
       "300+               2\n",
       "500+               2\n",
       "200 - 300          2\n",
       "100_to_200         1\n",
       "Name: Company size, dtype: int64"
      ]
     },
     "execution_count": 389,
     "metadata": {},
     "output_type": "execute_result"
    }
   ],
   "source": [
    "# Checking for the count of the Company Size\n",
    "salary_information_data['Company size'].value_counts()"
   ]
  },
  {
   "cell_type": "code",
   "execution_count": 390,
   "id": "023b9d3a",
   "metadata": {},
   "outputs": [
    {
     "data": {
      "text/plain": [
       "Id                  int64\n",
       "Amount              int64\n",
       "Currency           object\n",
       "Year                int64\n",
       "Work experience    object\n",
       "Education          object\n",
       "Company size       object\n",
       "Designation        object\n",
       "Status             object\n",
       "dtype: object"
      ]
     },
     "execution_count": 390,
     "metadata": {},
     "output_type": "execute_result"
    }
   ],
   "source": [
    "#Checking the Data type\n",
    "data_type = salary_information_data.dtypes\n",
    "data_type"
   ]
  },
  {
   "cell_type": "code",
   "execution_count": 391,
   "id": "c20651b1",
   "metadata": {},
   "outputs": [],
   "source": [
    "#Converting datatype as per the requirement\n",
    "salary_information_data['Company size'] = salary_information_data['Company size'].astype('string') \n",
    "salary_information_data['Currency'] = salary_information_data['Currency'].astype('string')\n",
    "salary_information_data['Education'] = salary_information_data['Education'].astype('string')\n",
    "salary_information_data['Designation'] = salary_information_data['Designation'].astype('string')\n",
    "salary_information_data['Status'] =salary_information_data['Status'].astype('string')\n",
    "salary_information_data['Work experience'] =salary_information_data['Work experience'].astype('string')"
   ]
  },
  {
   "cell_type": "code",
   "execution_count": 392,
   "id": "2e1d72bc",
   "metadata": {},
   "outputs": [
    {
     "data": {
      "text/plain": [
       "Id                  int64\n",
       "Amount              int64\n",
       "Currency           string\n",
       "Year                int64\n",
       "Work experience    string\n",
       "Education          string\n",
       "Company size       string\n",
       "Designation        string\n",
       "Status             string\n",
       "dtype: object"
      ]
     },
     "execution_count": 392,
     "metadata": {},
     "output_type": "execute_result"
    }
   ],
   "source": [
    "data_type = salary_information_data.dtypes\n",
    "data_type"
   ]
  },
  {
   "cell_type": "code",
   "execution_count": 393,
   "id": "431a5fad",
   "metadata": {},
   "outputs": [],
   "source": [
    "salary_information_data.loc[(salary_information_data['Company size'] == '500+'),'Company size'] = 'above_500'"
   ]
  },
  {
   "cell_type": "code",
   "execution_count": 394,
   "id": "cc686565",
   "metadata": {},
   "outputs": [],
   "source": [
    "salary_information_data.loc[(salary_information_data['Company size'] == '50 - 100'),'Company size'] = '50_to_100'"
   ]
  },
  {
   "cell_type": "code",
   "execution_count": 395,
   "id": "01e20794",
   "metadata": {},
   "outputs": [],
   "source": [
    "salary_information_data.loc[(salary_information_data['Company size'] == '100 - 200'),'Company size'] = '100_to_500'"
   ]
  },
  {
   "cell_type": "code",
   "execution_count": 396,
   "id": "53d50bea",
   "metadata": {},
   "outputs": [],
   "source": [
    "salary_information_data.loc[(salary_information_data['Company size'] == '10 - 50'),'Company size'] = '20_to_50'"
   ]
  },
  {
   "cell_type": "code",
   "execution_count": 397,
   "id": "9cfebaac",
   "metadata": {},
   "outputs": [],
   "source": [
    "salary_information_data.loc[(salary_information_data['Company size'] == '10_to_50'),'Company size'] = '20_to_50'"
   ]
  },
  {
   "cell_type": "code",
   "execution_count": 398,
   "id": "b6b00457",
   "metadata": {},
   "outputs": [],
   "source": [
    "salary_information_data.loc[(salary_information_data['Company size'] == '300+'),'Company size'] = '100_to_500'"
   ]
  },
  {
   "cell_type": "code",
   "execution_count": 399,
   "id": "eaaf0eb5",
   "metadata": {},
   "outputs": [],
   "source": [
    "salary_information_data.loc[(salary_information_data['Company size'] == 'above_500'),'Company size'] = 'more_than_500'"
   ]
  },
  {
   "cell_type": "code",
   "execution_count": 400,
   "id": "e83208e1",
   "metadata": {},
   "outputs": [],
   "source": [
    "salary_information_data.loc[(salary_information_data['Company size'] == '200 - 300'),'Company size'] = '10_to_500'"
   ]
  },
  {
   "cell_type": "code",
   "execution_count": 401,
   "id": "9ebaf366",
   "metadata": {},
   "outputs": [],
   "source": [
    "salary_information_data.loc[(salary_information_data['Company size'] == '10_to_500'),'Company size'] = '10_to_20'"
   ]
  },
  {
   "cell_type": "code",
   "execution_count": 402,
   "id": "60b92314",
   "metadata": {},
   "outputs": [],
   "source": [
    "salary_information_data.loc[(salary_information_data['Company size'] == '100_to_200'),'Company size'] = '100_to_500'"
   ]
  },
  {
   "cell_type": "code",
   "execution_count": 403,
   "id": "bcb7bea6",
   "metadata": {},
   "outputs": [],
   "source": [
    "condition = salary_information_data['Designation'].str.contains('-', case=False)\n",
    "salary_information_data = salary_information_data.drop(salary_information_data[condition].index)"
   ]
  },
  {
   "cell_type": "code",
   "execution_count": 404,
   "id": "fda8a1cf",
   "metadata": {},
   "outputs": [],
   "source": [
    "condition = salary_information_data['Company size'].str.contains('-', case=False)\n",
    "salary_information_data = salary_information_data.drop(salary_information_data[condition].index)"
   ]
  },
  {
   "cell_type": "code",
   "execution_count": 405,
   "id": "a87a9fc3",
   "metadata": {},
   "outputs": [
    {
     "data": {
      "text/plain": [
       "more_than_500    621\n",
       "100_to_500       234\n",
       "50_to_100         69\n",
       "20_to_50          56\n",
       "10_to_20          29\n",
       "below_10          14\n",
       "Name: Company size, dtype: Int64"
      ]
     },
     "execution_count": 405,
     "metadata": {},
     "output_type": "execute_result"
    }
   ],
   "source": [
    "# Checking for the count of the Company Size\n",
    "salary_information_data['Company size'].value_counts()"
   ]
  },
  {
   "cell_type": "code",
   "execution_count": 406,
   "id": "c43598cd",
   "metadata": {},
   "outputs": [
    {
     "data": {
      "text/plain": [
       "software_engineer                       353\n",
       "senior_software_engineer                120\n",
       "architecture                             87\n",
       "network_engineer                         47\n",
       "associate_technical_lead                 35\n",
       "                                       ... \n",
       "senior_data_architect                     1\n",
       "lead_devops_engineer                      1\n",
       "manager_it_operation                      1\n",
       "junior_machine_learning_engineer          1\n",
       "Associate Quality Assurance Engineer      1\n",
       "Name: Designation, Length: 71, dtype: Int64"
      ]
     },
     "execution_count": 406,
     "metadata": {},
     "output_type": "execute_result"
    }
   ],
   "source": [
    "# Checking for the count of the Designation\n",
    "salary_information_data['Designation'].value_counts()"
   ]
  },
  {
   "cell_type": "code",
   "execution_count": 407,
   "id": "f4d3c768",
   "metadata": {},
   "outputs": [],
   "source": [
    "salary_information_data = salary_information_data.loc[(salary_information_data['Status'] == 'approved')]"
   ]
  },
  {
   "cell_type": "code",
   "execution_count": 408,
   "id": "79a1e4b5",
   "metadata": {},
   "outputs": [
    {
     "data": {
      "text/plain": [
       "(1003, 9)"
      ]
     },
     "execution_count": 408,
     "metadata": {},
     "output_type": "execute_result"
    }
   ],
   "source": [
    "salary_information_data.shape"
   ]
  },
  {
   "cell_type": "code",
   "execution_count": 409,
   "id": "d5ff1de9",
   "metadata": {},
   "outputs": [
    {
     "data": {
      "text/html": [
       "<div>\n",
       "<style scoped>\n",
       "    .dataframe tbody tr th:only-of-type {\n",
       "        vertical-align: middle;\n",
       "    }\n",
       "\n",
       "    .dataframe tbody tr th {\n",
       "        vertical-align: top;\n",
       "    }\n",
       "\n",
       "    .dataframe thead th {\n",
       "        text-align: right;\n",
       "    }\n",
       "</style>\n",
       "<table border=\"1\" class=\"dataframe\">\n",
       "  <thead>\n",
       "    <tr style=\"text-align: right;\">\n",
       "      <th></th>\n",
       "      <th>Id</th>\n",
       "      <th>Amount</th>\n",
       "      <th>Currency</th>\n",
       "      <th>Year</th>\n",
       "      <th>Work experience</th>\n",
       "      <th>Education</th>\n",
       "      <th>Company size</th>\n",
       "      <th>Designation</th>\n",
       "      <th>Status</th>\n",
       "    </tr>\n",
       "  </thead>\n",
       "  <tbody>\n",
       "    <tr>\n",
       "      <th>0</th>\n",
       "      <td>3</td>\n",
       "      <td>120000</td>\n",
       "      <td>LKR</td>\n",
       "      <td>2018</td>\n",
       "      <td>1_to_3</td>\n",
       "      <td>bachelors_degree</td>\n",
       "      <td>100_to_500</td>\n",
       "      <td>senior_software_engineer</td>\n",
       "      <td>approved</td>\n",
       "    </tr>\n",
       "    <tr>\n",
       "      <th>1</th>\n",
       "      <td>4</td>\n",
       "      <td>65000</td>\n",
       "      <td>LKR</td>\n",
       "      <td>2020</td>\n",
       "      <td>1_to_3</td>\n",
       "      <td>bachelors_degree</td>\n",
       "      <td>100_to_500</td>\n",
       "      <td>associate_software_engineer</td>\n",
       "      <td>approved</td>\n",
       "    </tr>\n",
       "    <tr>\n",
       "      <th>2</th>\n",
       "      <td>5</td>\n",
       "      <td>230000</td>\n",
       "      <td>LKR</td>\n",
       "      <td>2022</td>\n",
       "      <td>1_to_3</td>\n",
       "      <td>bachelors_degree</td>\n",
       "      <td>100_to_500</td>\n",
       "      <td>software_engineer</td>\n",
       "      <td>approved</td>\n",
       "    </tr>\n",
       "    <tr>\n",
       "      <th>3</th>\n",
       "      <td>6</td>\n",
       "      <td>260000</td>\n",
       "      <td>LKR</td>\n",
       "      <td>2022</td>\n",
       "      <td>7_to_9</td>\n",
       "      <td>bachelors_degree</td>\n",
       "      <td>100_to_500</td>\n",
       "      <td>senior_ui_ux_engineer</td>\n",
       "      <td>approved</td>\n",
       "    </tr>\n",
       "    <tr>\n",
       "      <th>4</th>\n",
       "      <td>7</td>\n",
       "      <td>120000</td>\n",
       "      <td>LKR</td>\n",
       "      <td>2022</td>\n",
       "      <td>1_to_3</td>\n",
       "      <td>bachelors_degree</td>\n",
       "      <td>20_to_50</td>\n",
       "      <td>software_engineer</td>\n",
       "      <td>approved</td>\n",
       "    </tr>\n",
       "  </tbody>\n",
       "</table>\n",
       "</div>"
      ],
      "text/plain": [
       "   Id  Amount Currency  Year Work experience         Education Company size  \\\n",
       "0   3  120000      LKR  2018          1_to_3  bachelors_degree   100_to_500   \n",
       "1   4   65000      LKR  2020          1_to_3  bachelors_degree   100_to_500   \n",
       "2   5  230000      LKR  2022          1_to_3  bachelors_degree   100_to_500   \n",
       "3   6  260000      LKR  2022          7_to_9  bachelors_degree   100_to_500   \n",
       "4   7  120000      LKR  2022          1_to_3  bachelors_degree     20_to_50   \n",
       "\n",
       "                   Designation    Status  \n",
       "0     senior_software_engineer  approved  \n",
       "1  associate_software_engineer  approved  \n",
       "2            software_engineer  approved  \n",
       "3        senior_ui_ux_engineer  approved  \n",
       "4            software_engineer  approved  "
      ]
     },
     "execution_count": 409,
     "metadata": {},
     "output_type": "execute_result"
    }
   ],
   "source": [
    "salary_information_data.head()"
   ]
  },
  {
   "cell_type": "code",
   "execution_count": 410,
   "id": "bd229745",
   "metadata": {},
   "outputs": [
    {
     "data": {
      "text/plain": [
       "bachelors_degree    921\n",
       "masters              44\n",
       "higher_diploma       23\n",
       "diploma              11\n",
       " -                    4\n",
       "Name: Education, dtype: Int64"
      ]
     },
     "execution_count": 410,
     "metadata": {},
     "output_type": "execute_result"
    }
   ],
   "source": [
    "# Checking for the count of the Education\n",
    "salary_information_data['Education'].value_counts()"
   ]
  },
  {
   "cell_type": "code",
   "execution_count": 411,
   "id": "45069e2e",
   "metadata": {},
   "outputs": [],
   "source": [
    "condition = salary_information_data['Education'].str.contains('-', case=False)\n",
    "salary_information_data = salary_information_data.drop(salary_information_data[condition].index)"
   ]
  },
  {
   "cell_type": "code",
   "execution_count": 412,
   "id": "ceca872f",
   "metadata": {},
   "outputs": [
    {
     "data": {
      "text/plain": [
       "1_to_3      337\n",
       "4_to_6      316\n",
       "0_to_1      248\n",
       "7_to_9       55\n",
       "10_to_14     33\n",
       "15+          10\n",
       "Name: Work experience, dtype: Int64"
      ]
     },
     "execution_count": 412,
     "metadata": {},
     "output_type": "execute_result"
    }
   ],
   "source": [
    "# Checking for the count of the Education\n",
    "salary_information_data['Work experience'].value_counts()"
   ]
  },
  {
   "cell_type": "code",
   "execution_count": 413,
   "id": "196c8241",
   "metadata": {},
   "outputs": [
    {
     "data": {
      "text/plain": [
       "LKR    877\n",
       "USD     87\n",
       "AUD     13\n",
       "GBP     11\n",
       "EUR      7\n",
       "SGD      4\n",
       "Name: Currency, dtype: Int64"
      ]
     },
     "execution_count": 413,
     "metadata": {},
     "output_type": "execute_result"
    }
   ],
   "source": [
    "# Checking for the count of the Currency\n",
    "salary_information_data['Currency'].value_counts()"
   ]
  },
  {
   "cell_type": "code",
   "execution_count": 414,
   "id": "cf97414a",
   "metadata": {},
   "outputs": [
    {
     "data": {
      "text/html": [
       "<div>\n",
       "<style scoped>\n",
       "    .dataframe tbody tr th:only-of-type {\n",
       "        vertical-align: middle;\n",
       "    }\n",
       "\n",
       "    .dataframe tbody tr th {\n",
       "        vertical-align: top;\n",
       "    }\n",
       "\n",
       "    .dataframe thead th {\n",
       "        text-align: right;\n",
       "    }\n",
       "</style>\n",
       "<table border=\"1\" class=\"dataframe\">\n",
       "  <thead>\n",
       "    <tr style=\"text-align: right;\">\n",
       "      <th></th>\n",
       "      <th>Id</th>\n",
       "      <th>Amount</th>\n",
       "      <th>Currency</th>\n",
       "      <th>Year</th>\n",
       "      <th>Work experience</th>\n",
       "      <th>Education</th>\n",
       "      <th>Company size</th>\n",
       "      <th>Designation</th>\n",
       "      <th>Status</th>\n",
       "    </tr>\n",
       "  </thead>\n",
       "  <tbody>\n",
       "    <tr>\n",
       "      <th>24</th>\n",
       "      <td>27</td>\n",
       "      <td>1500</td>\n",
       "      <td>USD</td>\n",
       "      <td>2022</td>\n",
       "      <td>1_to_3</td>\n",
       "      <td>bachelors_degree</td>\n",
       "      <td>100_to_500</td>\n",
       "      <td>senior_software_engineer</td>\n",
       "      <td>approved</td>\n",
       "    </tr>\n",
       "    <tr>\n",
       "      <th>27</th>\n",
       "      <td>30</td>\n",
       "      <td>1000</td>\n",
       "      <td>USD</td>\n",
       "      <td>2022</td>\n",
       "      <td>0_to_1</td>\n",
       "      <td>bachelors_degree</td>\n",
       "      <td>more_than_500</td>\n",
       "      <td>software_engineer</td>\n",
       "      <td>approved</td>\n",
       "    </tr>\n",
       "    <tr>\n",
       "      <th>39</th>\n",
       "      <td>42</td>\n",
       "      <td>7000</td>\n",
       "      <td>USD</td>\n",
       "      <td>2022</td>\n",
       "      <td>4_to_6</td>\n",
       "      <td>bachelors_degree</td>\n",
       "      <td>20_to_50</td>\n",
       "      <td>software_engineer</td>\n",
       "      <td>approved</td>\n",
       "    </tr>\n",
       "    <tr>\n",
       "      <th>43</th>\n",
       "      <td>46</td>\n",
       "      <td>3562</td>\n",
       "      <td>USD</td>\n",
       "      <td>2022</td>\n",
       "      <td>10_to_14</td>\n",
       "      <td>bachelors_degree</td>\n",
       "      <td>more_than_500</td>\n",
       "      <td>senior_tech_lead</td>\n",
       "      <td>approved</td>\n",
       "    </tr>\n",
       "    <tr>\n",
       "      <th>59</th>\n",
       "      <td>62</td>\n",
       "      <td>2600</td>\n",
       "      <td>USD</td>\n",
       "      <td>2022</td>\n",
       "      <td>4_to_6</td>\n",
       "      <td>masters</td>\n",
       "      <td>more_than_500</td>\n",
       "      <td>associate_tech_lead</td>\n",
       "      <td>approved</td>\n",
       "    </tr>\n",
       "    <tr>\n",
       "      <th>...</th>\n",
       "      <td>...</td>\n",
       "      <td>...</td>\n",
       "      <td>...</td>\n",
       "      <td>...</td>\n",
       "      <td>...</td>\n",
       "      <td>...</td>\n",
       "      <td>...</td>\n",
       "      <td>...</td>\n",
       "      <td>...</td>\n",
       "    </tr>\n",
       "    <tr>\n",
       "      <th>411</th>\n",
       "      <td>414</td>\n",
       "      <td>15000</td>\n",
       "      <td>USD</td>\n",
       "      <td>2022</td>\n",
       "      <td>15+</td>\n",
       "      <td>masters</td>\n",
       "      <td>20_to_50</td>\n",
       "      <td>CTO</td>\n",
       "      <td>approved</td>\n",
       "    </tr>\n",
       "    <tr>\n",
       "      <th>415</th>\n",
       "      <td>418</td>\n",
       "      <td>990</td>\n",
       "      <td>USD</td>\n",
       "      <td>2022</td>\n",
       "      <td>1_to_3</td>\n",
       "      <td>bachelors_degree</td>\n",
       "      <td>20_to_50</td>\n",
       "      <td>qa_engineer</td>\n",
       "      <td>approved</td>\n",
       "    </tr>\n",
       "    <tr>\n",
       "      <th>431</th>\n",
       "      <td>434</td>\n",
       "      <td>200</td>\n",
       "      <td>USD</td>\n",
       "      <td>2022</td>\n",
       "      <td>0_to_1</td>\n",
       "      <td>bachelors_degree</td>\n",
       "      <td>100_to_500</td>\n",
       "      <td>Internship</td>\n",
       "      <td>approved</td>\n",
       "    </tr>\n",
       "    <tr>\n",
       "      <th>449</th>\n",
       "      <td>452</td>\n",
       "      <td>250</td>\n",
       "      <td>USD</td>\n",
       "      <td>2022</td>\n",
       "      <td>1_to_3</td>\n",
       "      <td>bachelors_degree</td>\n",
       "      <td>100_to_500</td>\n",
       "      <td>Technical Lead</td>\n",
       "      <td>approved</td>\n",
       "    </tr>\n",
       "    <tr>\n",
       "      <th>453</th>\n",
       "      <td>456</td>\n",
       "      <td>98</td>\n",
       "      <td>USD</td>\n",
       "      <td>2022</td>\n",
       "      <td>0_to_1</td>\n",
       "      <td>bachelors_degree</td>\n",
       "      <td>100_to_500</td>\n",
       "      <td>Internship</td>\n",
       "      <td>approved</td>\n",
       "    </tr>\n",
       "  </tbody>\n",
       "</table>\n",
       "<p>87 rows × 9 columns</p>\n",
       "</div>"
      ],
      "text/plain": [
       "      Id  Amount Currency  Year Work experience         Education  \\\n",
       "24    27    1500      USD  2022          1_to_3  bachelors_degree   \n",
       "27    30    1000      USD  2022          0_to_1  bachelors_degree   \n",
       "39    42    7000      USD  2022          4_to_6  bachelors_degree   \n",
       "43    46    3562      USD  2022        10_to_14  bachelors_degree   \n",
       "59    62    2600      USD  2022          4_to_6           masters   \n",
       "..   ...     ...      ...   ...             ...               ...   \n",
       "411  414   15000      USD  2022             15+           masters   \n",
       "415  418     990      USD  2022          1_to_3  bachelors_degree   \n",
       "431  434     200      USD  2022          0_to_1  bachelors_degree   \n",
       "449  452     250      USD  2022          1_to_3  bachelors_degree   \n",
       "453  456      98      USD  2022          0_to_1  bachelors_degree   \n",
       "\n",
       "      Company size               Designation    Status  \n",
       "24      100_to_500  senior_software_engineer  approved  \n",
       "27   more_than_500         software_engineer  approved  \n",
       "39        20_to_50         software_engineer  approved  \n",
       "43   more_than_500          senior_tech_lead  approved  \n",
       "59   more_than_500       associate_tech_lead  approved  \n",
       "..             ...                       ...       ...  \n",
       "411       20_to_50                       CTO  approved  \n",
       "415       20_to_50               qa_engineer  approved  \n",
       "431     100_to_500                Internship  approved  \n",
       "449     100_to_500            Technical Lead  approved  \n",
       "453     100_to_500                Internship  approved  \n",
       "\n",
       "[87 rows x 9 columns]"
      ]
     },
     "execution_count": 414,
     "metadata": {},
     "output_type": "execute_result"
    }
   ],
   "source": [
    "salary_information_data[salary_information_data['Currency'] == 'USD'].head(90)"
   ]
  },
  {
   "cell_type": "code",
   "execution_count": 415,
   "id": "08d8e3eb",
   "metadata": {},
   "outputs": [],
   "source": [
    "# Filter the rows where the Currency is USD\n",
    "usd_mask = salary_information_data['Currency'] == 'USD'\n",
    "\n",
    "# Convert the values in the 'Amount' column from USD to LKR using a lambda function\n",
    "salary_information_data.loc[usd_mask, 'Amount'] = salary_information_data.loc[usd_mask, 'Amount'].apply(lambda x: x * 320)\n",
    "\n",
    "# Update the 'Currency' column to 'LKR' for the filtered rows\n",
    "salary_information_data.loc[usd_mask, 'Currency'] = 'LKR'"
   ]
  },
  {
   "cell_type": "code",
   "execution_count": 416,
   "id": "15ea65b9",
   "metadata": {},
   "outputs": [
    {
     "data": {
      "text/plain": [
       "LKR    964\n",
       "AUD     13\n",
       "GBP     11\n",
       "EUR      7\n",
       "SGD      4\n",
       "Name: Currency, dtype: Int64"
      ]
     },
     "execution_count": 416,
     "metadata": {},
     "output_type": "execute_result"
    }
   ],
   "source": [
    "# Checking for the count of the Currency\n",
    "salary_information_data['Currency'].value_counts()"
   ]
  },
  {
   "cell_type": "code",
   "execution_count": 417,
   "id": "aad88ac9",
   "metadata": {},
   "outputs": [],
   "source": [
    "# Filter the rows where the Currency is AUD\n",
    "aud_mask = salary_information_data['Currency'] == 'AUD'\n",
    "\n",
    "# Convert the values in the 'Amount' column from AUD to LKR using a lambda function\n",
    "salary_information_data.loc[aud_mask, 'Amount'] = salary_information_data.loc[aud_mask, 'Amount'].apply(lambda x: x * 212)\n",
    "\n",
    "# Update the 'Currency' column to 'LKR' for the filtered rows\n",
    "salary_information_data.loc[aud_mask, 'Currency'] = 'LKR'"
   ]
  },
  {
   "cell_type": "code",
   "execution_count": 418,
   "id": "1ac973e5",
   "metadata": {},
   "outputs": [],
   "source": [
    "# Filter the rows where the Currency is GBP\n",
    "gbp_mask = salary_information_data['Currency'] == 'GBP'\n",
    "\n",
    "# Convert the values in the 'Amount' column from AUD to GBP using a lambda function\n",
    "salary_information_data.loc[gbp_mask, 'Amount'] = salary_information_data.loc[gbp_mask, 'Amount'].apply(lambda x: x * 398)\n",
    "\n",
    "# Update the 'Currency' column to 'LKR' for the filtered rows\n",
    "salary_information_data.loc[gbp_mask, 'Currency'] = 'LKR'"
   ]
  },
  {
   "cell_type": "code",
   "execution_count": 419,
   "id": "ae47a5e7",
   "metadata": {},
   "outputs": [],
   "source": [
    "# Filter the rows where the Currency is EUR\n",
    "eur_mask = salary_information_data['Currency'] == 'EUR'\n",
    "\n",
    "# Convert the values in the 'Amount' column from LKR to GBP using a lambda function\n",
    "salary_information_data.loc[eur_mask, 'Amount'] = salary_information_data.loc[eur_mask, 'Amount'].apply(lambda x: x * 349)\n",
    "\n",
    "# Update the 'Currency' column to 'LKR' for the filtered rows\n",
    "salary_information_data.loc[eur_mask, 'Currency'] = 'LKR'"
   ]
  },
  {
   "cell_type": "code",
   "execution_count": 420,
   "id": "163ea960",
   "metadata": {},
   "outputs": [],
   "source": [
    "# Filter the rows where the Currency is SGD\n",
    "sgd_mask = salary_information_data['Currency'] == 'SGD'\n",
    "\n",
    "# Convert the values in the 'Amount' column from LKR to SGD using a lambda function\n",
    "salary_information_data.loc[sgd_mask, 'Amount'] = salary_information_data.loc[sgd_mask, 'Amount'].apply(lambda x: x * 241)\n",
    "\n",
    "# Update the 'Currency' column to 'LKR' for the filtered rows\n",
    "salary_information_data.loc[sgd_mask, 'Currency'] = 'LKR'"
   ]
  },
  {
   "cell_type": "code",
   "execution_count": 421,
   "id": "33aea1fc",
   "metadata": {},
   "outputs": [
    {
     "data": {
      "text/plain": [
       "(999, 9)"
      ]
     },
     "execution_count": 421,
     "metadata": {},
     "output_type": "execute_result"
    }
   ],
   "source": [
    "salary_information_data.shape"
   ]
  },
  {
   "cell_type": "code",
   "execution_count": 422,
   "id": "0977668a",
   "metadata": {},
   "outputs": [
    {
     "data": {
      "text/html": [
       "<div>\n",
       "<style scoped>\n",
       "    .dataframe tbody tr th:only-of-type {\n",
       "        vertical-align: middle;\n",
       "    }\n",
       "\n",
       "    .dataframe tbody tr th {\n",
       "        vertical-align: top;\n",
       "    }\n",
       "\n",
       "    .dataframe thead th {\n",
       "        text-align: right;\n",
       "    }\n",
       "</style>\n",
       "<table border=\"1\" class=\"dataframe\">\n",
       "  <thead>\n",
       "    <tr style=\"text-align: right;\">\n",
       "      <th></th>\n",
       "      <th>Id</th>\n",
       "      <th>Amount</th>\n",
       "      <th>Currency</th>\n",
       "      <th>Year</th>\n",
       "      <th>Work experience</th>\n",
       "      <th>Education</th>\n",
       "      <th>Company size</th>\n",
       "      <th>Designation</th>\n",
       "      <th>Status</th>\n",
       "    </tr>\n",
       "  </thead>\n",
       "  <tbody>\n",
       "    <tr>\n",
       "      <th>0</th>\n",
       "      <td>3</td>\n",
       "      <td>120000</td>\n",
       "      <td>LKR</td>\n",
       "      <td>2018</td>\n",
       "      <td>1_to_3</td>\n",
       "      <td>bachelors_degree</td>\n",
       "      <td>100_to_500</td>\n",
       "      <td>senior_software_engineer</td>\n",
       "      <td>approved</td>\n",
       "    </tr>\n",
       "    <tr>\n",
       "      <th>1</th>\n",
       "      <td>4</td>\n",
       "      <td>65000</td>\n",
       "      <td>LKR</td>\n",
       "      <td>2020</td>\n",
       "      <td>1_to_3</td>\n",
       "      <td>bachelors_degree</td>\n",
       "      <td>100_to_500</td>\n",
       "      <td>associate_software_engineer</td>\n",
       "      <td>approved</td>\n",
       "    </tr>\n",
       "    <tr>\n",
       "      <th>2</th>\n",
       "      <td>5</td>\n",
       "      <td>230000</td>\n",
       "      <td>LKR</td>\n",
       "      <td>2022</td>\n",
       "      <td>1_to_3</td>\n",
       "      <td>bachelors_degree</td>\n",
       "      <td>100_to_500</td>\n",
       "      <td>software_engineer</td>\n",
       "      <td>approved</td>\n",
       "    </tr>\n",
       "    <tr>\n",
       "      <th>3</th>\n",
       "      <td>6</td>\n",
       "      <td>260000</td>\n",
       "      <td>LKR</td>\n",
       "      <td>2022</td>\n",
       "      <td>7_to_9</td>\n",
       "      <td>bachelors_degree</td>\n",
       "      <td>100_to_500</td>\n",
       "      <td>senior_ui_ux_engineer</td>\n",
       "      <td>approved</td>\n",
       "    </tr>\n",
       "    <tr>\n",
       "      <th>4</th>\n",
       "      <td>7</td>\n",
       "      <td>120000</td>\n",
       "      <td>LKR</td>\n",
       "      <td>2022</td>\n",
       "      <td>1_to_3</td>\n",
       "      <td>bachelors_degree</td>\n",
       "      <td>20_to_50</td>\n",
       "      <td>software_engineer</td>\n",
       "      <td>approved</td>\n",
       "    </tr>\n",
       "  </tbody>\n",
       "</table>\n",
       "</div>"
      ],
      "text/plain": [
       "   Id  Amount Currency  Year Work experience         Education Company size  \\\n",
       "0   3  120000      LKR  2018          1_to_3  bachelors_degree   100_to_500   \n",
       "1   4   65000      LKR  2020          1_to_3  bachelors_degree   100_to_500   \n",
       "2   5  230000      LKR  2022          1_to_3  bachelors_degree   100_to_500   \n",
       "3   6  260000      LKR  2022          7_to_9  bachelors_degree   100_to_500   \n",
       "4   7  120000      LKR  2022          1_to_3  bachelors_degree     20_to_50   \n",
       "\n",
       "                   Designation    Status  \n",
       "0     senior_software_engineer  approved  \n",
       "1  associate_software_engineer  approved  \n",
       "2            software_engineer  approved  \n",
       "3        senior_ui_ux_engineer  approved  \n",
       "4            software_engineer  approved  "
      ]
     },
     "execution_count": 422,
     "metadata": {},
     "output_type": "execute_result"
    }
   ],
   "source": [
    "salary_information_data.head()"
   ]
  },
  {
   "cell_type": "code",
   "execution_count": 423,
   "id": "0258b77f",
   "metadata": {},
   "outputs": [
    {
     "data": {
      "text/plain": [
       "approved    999\n",
       "Name: Status, dtype: Int64"
      ]
     },
     "execution_count": 423,
     "metadata": {},
     "output_type": "execute_result"
    }
   ],
   "source": [
    "# Checking for the count of the Status\n",
    "salary_information_data['Status'].value_counts()"
   ]
  },
  {
   "cell_type": "code",
   "execution_count": 424,
   "id": "87a757bd",
   "metadata": {},
   "outputs": [
    {
     "data": {
      "text/plain": [
       "software_engineer                 348\n",
       "senior_software_engineer          119\n",
       "architecture                       87\n",
       "network_engineer                   47\n",
       "associate_technical_lead           35\n",
       "                                 ... \n",
       "lead_devops_engineer                1\n",
       "Technical Lead                      1\n",
       "UI/UX Engineer                      1\n",
       "associate_reliability_engineer      1\n",
       "senior_lead_ui_ux_engineer          1\n",
       "Name: Designation, Length: 69, dtype: Int64"
      ]
     },
     "execution_count": 424,
     "metadata": {},
     "output_type": "execute_result"
    }
   ],
   "source": [
    "# Checking for the count of the Education\n",
    "salary_information_data['Designation'].value_counts()"
   ]
  },
  {
   "cell_type": "code",
   "execution_count": 425,
   "id": "9170dbe3",
   "metadata": {},
   "outputs": [],
   "source": [
    "salary_information_data.loc[(salary_information_data['Designation'] == 'UI/UX Engineer'),'Designation'] = 'ui_ux_engineer'"
   ]
  },
  {
   "cell_type": "code",
   "execution_count": 426,
   "id": "e3fccaea",
   "metadata": {},
   "outputs": [],
   "source": [
    "salary_information_data.loc[(salary_information_data['Designation'] == 'Software Engineer'),'Designation'] = 'software_engineer'"
   ]
  },
  {
   "cell_type": "code",
   "execution_count": 427,
   "id": "93b43a96",
   "metadata": {},
   "outputs": [],
   "source": [
    "salary_information_data.loc[(salary_information_data['Designation'] == 'Technical Lead'),'Designation'] = 'technical_lead'"
   ]
  },
  {
   "cell_type": "code",
   "execution_count": 428,
   "id": "4cd71ed0",
   "metadata": {},
   "outputs": [],
   "source": [
    "salary_information_data.loc[(salary_information_data['Designation'] == 'Business Analyst'),'Designation'] = 'business_analyst'"
   ]
  },
  {
   "cell_type": "code",
   "execution_count": 429,
   "id": "fd2be819",
   "metadata": {},
   "outputs": [],
   "source": [
    "salary_information_data.loc[(salary_information_data['Designation'] == 'Associate Quality Assurance Engineer'),'Designation'] = 'associate_quality_assurance_engineer'"
   ]
  },
  {
   "cell_type": "code",
   "execution_count": 430,
   "id": "2ef7c354",
   "metadata": {},
   "outputs": [],
   "source": [
    "salary_information_data.loc[(salary_information_data['Designation'] == 'Associate Software Engineer'),'Designation'] = 'associate_software_engineer'"
   ]
  },
  {
   "cell_type": "code",
   "execution_count": 431,
   "id": "1a465981",
   "metadata": {},
   "outputs": [],
   "source": [
    "salary_information_data.loc[(salary_information_data['Designation'] == 'architect'),'Designation'] = 'architecture'"
   ]
  },
  {
   "cell_type": "code",
   "execution_count": 432,
   "id": "0007aea2",
   "metadata": {},
   "outputs": [],
   "source": [
    "salary_information_data.loc[(salary_information_data['Designation'] == 'associate_architect'),'Designation'] = 'associate_architecture'"
   ]
  },
  {
   "cell_type": "code",
   "execution_count": 433,
   "id": "efcfff63",
   "metadata": {},
   "outputs": [],
   "source": [
    "salary_information_data.loc[(salary_information_data['Designation'] == 'associate_tech_lead'),'Designation'] = 'associate_technical_lead'"
   ]
  },
  {
   "cell_type": "code",
   "execution_count": 434,
   "id": "e39a7d7e",
   "metadata": {},
   "outputs": [],
   "source": [
    "salary_information_data.loc[(salary_information_data['Designation'] == 'tech_lead'),'Designation'] = 'technical_lead'"
   ]
  },
  {
   "cell_type": "code",
   "execution_count": 435,
   "id": "1c2e279b",
   "metadata": {},
   "outputs": [],
   "source": [
    "salary_information_data.loc[(salary_information_data['Designation'] == 'senior_tech_lead'),'Designation'] = 'senior_technical_lead'"
   ]
  },
  {
   "cell_type": "code",
   "execution_count": 436,
   "id": "5f47f200",
   "metadata": {},
   "outputs": [],
   "source": [
    "salary_information_data.loc[(salary_information_data['Designation'] == 'Senior Quality Assurance Engineer'),'Designation'] = 'senior_quality_assurance_engineer'"
   ]
  },
  {
   "cell_type": "code",
   "execution_count": 437,
   "id": "2e0f954a",
   "metadata": {},
   "outputs": [],
   "source": [
    "salary_information_data.loc[(salary_information_data['Designation'] == 'Quality Assurance Engineer'),'Designation'] = 'quality_assurance_engineer'"
   ]
  },
  {
   "cell_type": "code",
   "execution_count": 438,
   "id": "b19153cd",
   "metadata": {},
   "outputs": [
    {
     "data": {
      "text/plain": [
       "software_engineer                       350\n",
       "senior_software_engineer                119\n",
       "architecture                             92\n",
       "associate_technical_lead                 59\n",
       "network_engineer                         47\n",
       "technical_lead                           44\n",
       "qa_engineer                              33\n",
       "associate_architecture                   27\n",
       "associate_software_engineer              26\n",
       "quality_assurance_lead                   15\n",
       "senior_business_analyst                  15\n",
       "Internship                               12\n",
       "senior_devops_engineer                   12\n",
       "ui_ux_engineer                           11\n",
       "senior_qa_engineer                       11\n",
       "devops_engineer                          10\n",
       "system_engineer                           9\n",
       "business_analyst                          9\n",
       "senior_system_engineer                    6\n",
       "project_manager                           6\n",
       "senior_qa_lead                            5\n",
       "senior_technical_lead                     5\n",
       "qa_lead                                   4\n",
       "associate_project_manager                 4\n",
       "product_manager                           4\n",
       "senior_ui_ux_engineer                     4\n",
       "associate_devops_engineer                 4\n",
       "associate_qa_engineer                     3\n",
       "associate_system_engineer                 3\n",
       "senior_technical_consultant               3\n",
       "associate_qa_lead                         3\n",
       "principle_software_engineer               2\n",
       "senior_functional_consultant              2\n",
       "soc_engineer                              2\n",
       "senior_product_manager                    2\n",
       "lead_security_engineer                    2\n",
       "frontend_developer                        2\n",
       "associate_qa_architect                    2\n",
       "senior_frontend_engineer                  2\n",
       "senior_network_engineer                   2\n",
       "associate_security_engineer               2\n",
       "security_engineer                         2\n",
       "senior_development_manager                2\n",
       "senior_reliability_engineer               2\n",
       "lead_system_engineer                      2\n",
       "senior_quality_assurance_engineer         2\n",
       "junior_data_scientist                     1\n",
       "technical_trainer                         1\n",
       "associate_reliability_engineer            1\n",
       "manager_it_operation                      1\n",
       "senior_data_architect                     1\n",
       "senior_lead_ui_ux_engineer                1\n",
       "technical_consultant                      1\n",
       "CTO                                       1\n",
       "senior_architect                          1\n",
       "associate_ui_ux_engineer                  1\n",
       "quality_assurance_engineer                1\n",
       "associate_quality_assurance_engineer      1\n",
       "junior_machine_learning_engineer          1\n",
       "lead_devops_engineer                      1\n",
       "Name: Designation, dtype: Int64"
      ]
     },
     "execution_count": 438,
     "metadata": {},
     "output_type": "execute_result"
    }
   ],
   "source": [
    "salary_information_data['Designation'].value_counts()"
   ]
  },
  {
   "cell_type": "code",
   "execution_count": 439,
   "id": "fa6d8aa7",
   "metadata": {},
   "outputs": [],
   "source": [
    "#uniques_values = salary_information_data[[\"Work experience\", \"Education\", \"Company size\", \"Amount\",\"Designation\",\"Currency\",\"Status\",\"Year\"]].drop_duplicates()"
   ]
  },
  {
   "cell_type": "code",
   "execution_count": 440,
   "id": "7eae936e",
   "metadata": {},
   "outputs": [],
   "source": [
    "salary_information_data = salary_information_data.drop(['Currency','Status','Year'], axis =1)\n",
    "salary_information_data = salary_information_data[[\"Work experience\", \"Education\", \"Company size\", \"Amount\",\"Designation\"]].drop_duplicates()"
   ]
  },
  {
   "cell_type": "code",
   "execution_count": 441,
   "id": "c7dc6032",
   "metadata": {},
   "outputs": [],
   "source": [
    "#uniques_values.to_csv('unique_salary.csv', index=False)"
   ]
  },
  {
   "cell_type": "code",
   "execution_count": 442,
   "id": "9580d178",
   "metadata": {},
   "outputs": [],
   "source": [
    "salary_information_data.to_csv('cleaned_salary.csv', index=False)"
   ]
  },
  {
   "cell_type": "code",
   "execution_count": 443,
   "id": "7bc3d7db",
   "metadata": {},
   "outputs": [],
   "source": [
    "# Training the the model process after pre process\n",
    "updated_dataset = pd.read_csv('cleaned_salary.csv')"
   ]
  },
  {
   "cell_type": "code",
   "execution_count": 444,
   "id": "25a98b2b",
   "metadata": {},
   "outputs": [
    {
     "data": {
      "text/plain": [
       "Work experience    object\n",
       "Education          object\n",
       "Company size       object\n",
       "Amount              int64\n",
       "Designation        object\n",
       "dtype: object"
      ]
     },
     "execution_count": 444,
     "metadata": {},
     "output_type": "execute_result"
    }
   ],
   "source": [
    "updated_dataset.dtypes"
   ]
  },
  {
   "cell_type": "code",
   "execution_count": 445,
   "id": "1051021e",
   "metadata": {},
   "outputs": [
    {
     "data": {
      "text/plain": [
       "(524, 5)"
      ]
     },
     "execution_count": 445,
     "metadata": {},
     "output_type": "execute_result"
    }
   ],
   "source": [
    "updated_dataset.shape"
   ]
  },
  {
   "cell_type": "code",
   "execution_count": 446,
   "id": "325198b5",
   "metadata": {},
   "outputs": [
    {
     "data": {
      "text/html": [
       "<div>\n",
       "<style scoped>\n",
       "    .dataframe tbody tr th:only-of-type {\n",
       "        vertical-align: middle;\n",
       "    }\n",
       "\n",
       "    .dataframe tbody tr th {\n",
       "        vertical-align: top;\n",
       "    }\n",
       "\n",
       "    .dataframe thead th {\n",
       "        text-align: right;\n",
       "    }\n",
       "</style>\n",
       "<table border=\"1\" class=\"dataframe\">\n",
       "  <thead>\n",
       "    <tr style=\"text-align: right;\">\n",
       "      <th></th>\n",
       "      <th>Work experience</th>\n",
       "      <th>Education</th>\n",
       "      <th>Company size</th>\n",
       "      <th>Amount</th>\n",
       "      <th>Designation</th>\n",
       "    </tr>\n",
       "  </thead>\n",
       "  <tbody>\n",
       "    <tr>\n",
       "      <th>0</th>\n",
       "      <td>1_to_3</td>\n",
       "      <td>bachelors_degree</td>\n",
       "      <td>100_to_500</td>\n",
       "      <td>120000</td>\n",
       "      <td>senior_software_engineer</td>\n",
       "    </tr>\n",
       "    <tr>\n",
       "      <th>1</th>\n",
       "      <td>1_to_3</td>\n",
       "      <td>bachelors_degree</td>\n",
       "      <td>100_to_500</td>\n",
       "      <td>65000</td>\n",
       "      <td>associate_software_engineer</td>\n",
       "    </tr>\n",
       "    <tr>\n",
       "      <th>2</th>\n",
       "      <td>1_to_3</td>\n",
       "      <td>bachelors_degree</td>\n",
       "      <td>100_to_500</td>\n",
       "      <td>230000</td>\n",
       "      <td>software_engineer</td>\n",
       "    </tr>\n",
       "    <tr>\n",
       "      <th>3</th>\n",
       "      <td>7_to_9</td>\n",
       "      <td>bachelors_degree</td>\n",
       "      <td>100_to_500</td>\n",
       "      <td>260000</td>\n",
       "      <td>senior_ui_ux_engineer</td>\n",
       "    </tr>\n",
       "    <tr>\n",
       "      <th>4</th>\n",
       "      <td>1_to_3</td>\n",
       "      <td>bachelors_degree</td>\n",
       "      <td>20_to_50</td>\n",
       "      <td>120000</td>\n",
       "      <td>software_engineer</td>\n",
       "    </tr>\n",
       "  </tbody>\n",
       "</table>\n",
       "</div>"
      ],
      "text/plain": [
       "  Work experience         Education Company size  Amount  \\\n",
       "0          1_to_3  bachelors_degree   100_to_500  120000   \n",
       "1          1_to_3  bachelors_degree   100_to_500   65000   \n",
       "2          1_to_3  bachelors_degree   100_to_500  230000   \n",
       "3          7_to_9  bachelors_degree   100_to_500  260000   \n",
       "4          1_to_3  bachelors_degree     20_to_50  120000   \n",
       "\n",
       "                   Designation  \n",
       "0     senior_software_engineer  \n",
       "1  associate_software_engineer  \n",
       "2            software_engineer  \n",
       "3        senior_ui_ux_engineer  \n",
       "4            software_engineer  "
      ]
     },
     "execution_count": 446,
     "metadata": {},
     "output_type": "execute_result"
    }
   ],
   "source": [
    "updated_dataset.head()"
   ]
  },
  {
   "cell_type": "code",
   "execution_count": 447,
   "id": "1c5d03ca",
   "metadata": {},
   "outputs": [
    {
     "data": {
      "text/plain": [
       "(524, 5)"
      ]
     },
     "execution_count": 447,
     "metadata": {},
     "output_type": "execute_result"
    }
   ],
   "source": [
    "data_deep_copy = deepcopy(updated_dataset) \n",
    "data_deep_copy.shape"
   ]
  },
  {
   "cell_type": "code",
   "execution_count": 448,
   "id": "5507de10",
   "metadata": {},
   "outputs": [
    {
     "name": "stdout",
     "output_type": "stream",
     "text": [
      "Work experience\n",
      "Education\n",
      "Company size\n",
      "Designation\n"
     ]
    }
   ],
   "source": [
    "for column_feature in updated_dataset.columns :\n",
    "    if column_feature != 'Amount':\n",
    "        print(column_feature)"
   ]
  },
  {
   "cell_type": "code",
   "execution_count": 449,
   "id": "3d285b1a",
   "metadata": {},
   "outputs": [
    {
     "name": "stdout",
     "output_type": "stream",
     "text": [
      "Work experience\n",
      "Education\n",
      "Company size\n",
      "Designation\n",
      "   Work experience  Education  Company size  Amount  Designation\n",
      "0                3          0             0  120000           48\n",
      "1                3          0             0   65000           12\n",
      "2                3          0             0  230000           54\n",
      "3                5          0             0  260000           52\n",
      "4                3          0             2  120000           54\n"
     ]
    }
   ],
   "source": [
    "label_encoding_process = preprocessing.LabelEncoder()\n",
    "\n",
    "for column_feature in updated_dataset.columns :\n",
    "        if column_feature != 'Amount' : \n",
    "            updated_dataset[column_feature] = label_encoding_process.fit_transform(updated_dataset[column_feature])\n",
    "            print(column_feature)\n",
    "print(updated_dataset.head())"
   ]
  },
  {
   "cell_type": "code",
   "execution_count": 450,
   "id": "c3c088b8",
   "metadata": {},
   "outputs": [],
   "source": [
    "updated_dataset.to_csv('encoded.csv', index=False)"
   ]
  },
  {
   "cell_type": "code",
   "execution_count": 451,
   "id": "00614c40",
   "metadata": {},
   "outputs": [],
   "source": [
    "# Saving encoded data to pickle file\n",
    "with open('encoded_dataset.pkl', 'wb') as file:\n",
    "    pickle.dump(updated_dataset, file)"
   ]
  },
  {
   "cell_type": "code",
   "execution_count": 452,
   "id": "70d1f955",
   "metadata": {},
   "outputs": [],
   "source": [
    "independent_feature = 'Amount'\n",
    "other_features = list(updated_dataset.columns)\n",
    "\n",
    "other_features.remove(independent_feature)\n",
    "\n",
    "X = updated_dataset[other_features]\n",
    "y = updated_dataset[independent_feature]"
   ]
  },
  {
   "cell_type": "code",
   "execution_count": 453,
   "id": "b014c727",
   "metadata": {},
   "outputs": [
    {
     "data": {
      "text/plain": [
       "477    100000\n",
       "314    235000\n",
       "304    300000\n",
       "521    240000\n",
       "180    300000\n",
       "Name: Amount, dtype: int64"
      ]
     },
     "execution_count": 453,
     "metadata": {},
     "output_type": "execute_result"
    }
   ],
   "source": [
    "from sklearn.model_selection import train_test_split\n",
    "\n",
    "train_X, test_X,train_y, test_y = train_test_split(X, y, random_state=1)\n",
    "train_y.head()"
   ]
  },
  {
   "cell_type": "code",
   "execution_count": 454,
   "id": "8060f01f",
   "metadata": {},
   "outputs": [],
   "source": [
    "test_X,test_Y = train_X,train_y"
   ]
  },
  {
   "cell_type": "code",
   "execution_count": 455,
   "id": "a0e5b03c",
   "metadata": {},
   "outputs": [
    {
     "data": {
      "text/html": [
       "<style>#sk-container-id-7 {color: black;background-color: white;}#sk-container-id-7 pre{padding: 0;}#sk-container-id-7 div.sk-toggleable {background-color: white;}#sk-container-id-7 label.sk-toggleable__label {cursor: pointer;display: block;width: 100%;margin-bottom: 0;padding: 0.3em;box-sizing: border-box;text-align: center;}#sk-container-id-7 label.sk-toggleable__label-arrow:before {content: \"▸\";float: left;margin-right: 0.25em;color: #696969;}#sk-container-id-7 label.sk-toggleable__label-arrow:hover:before {color: black;}#sk-container-id-7 div.sk-estimator:hover label.sk-toggleable__label-arrow:before {color: black;}#sk-container-id-7 div.sk-toggleable__content {max-height: 0;max-width: 0;overflow: hidden;text-align: left;background-color: #f0f8ff;}#sk-container-id-7 div.sk-toggleable__content pre {margin: 0.2em;color: black;border-radius: 0.25em;background-color: #f0f8ff;}#sk-container-id-7 input.sk-toggleable__control:checked~div.sk-toggleable__content {max-height: 200px;max-width: 100%;overflow: auto;}#sk-container-id-7 input.sk-toggleable__control:checked~label.sk-toggleable__label-arrow:before {content: \"▾\";}#sk-container-id-7 div.sk-estimator input.sk-toggleable__control:checked~label.sk-toggleable__label {background-color: #d4ebff;}#sk-container-id-7 div.sk-label input.sk-toggleable__control:checked~label.sk-toggleable__label {background-color: #d4ebff;}#sk-container-id-7 input.sk-hidden--visually {border: 0;clip: rect(1px 1px 1px 1px);clip: rect(1px, 1px, 1px, 1px);height: 1px;margin: -1px;overflow: hidden;padding: 0;position: absolute;width: 1px;}#sk-container-id-7 div.sk-estimator {font-family: monospace;background-color: #f0f8ff;border: 1px dotted black;border-radius: 0.25em;box-sizing: border-box;margin-bottom: 0.5em;}#sk-container-id-7 div.sk-estimator:hover {background-color: #d4ebff;}#sk-container-id-7 div.sk-parallel-item::after {content: \"\";width: 100%;border-bottom: 1px solid gray;flex-grow: 1;}#sk-container-id-7 div.sk-label:hover label.sk-toggleable__label {background-color: #d4ebff;}#sk-container-id-7 div.sk-serial::before {content: \"\";position: absolute;border-left: 1px solid gray;box-sizing: border-box;top: 0;bottom: 0;left: 50%;z-index: 0;}#sk-container-id-7 div.sk-serial {display: flex;flex-direction: column;align-items: center;background-color: white;padding-right: 0.2em;padding-left: 0.2em;position: relative;}#sk-container-id-7 div.sk-item {position: relative;z-index: 1;}#sk-container-id-7 div.sk-parallel {display: flex;align-items: stretch;justify-content: center;background-color: white;position: relative;}#sk-container-id-7 div.sk-item::before, #sk-container-id-7 div.sk-parallel-item::before {content: \"\";position: absolute;border-left: 1px solid gray;box-sizing: border-box;top: 0;bottom: 0;left: 50%;z-index: -1;}#sk-container-id-7 div.sk-parallel-item {display: flex;flex-direction: column;z-index: 1;position: relative;background-color: white;}#sk-container-id-7 div.sk-parallel-item:first-child::after {align-self: flex-end;width: 50%;}#sk-container-id-7 div.sk-parallel-item:last-child::after {align-self: flex-start;width: 50%;}#sk-container-id-7 div.sk-parallel-item:only-child::after {width: 0;}#sk-container-id-7 div.sk-dashed-wrapped {border: 1px dashed gray;margin: 0 0.4em 0.5em 0.4em;box-sizing: border-box;padding-bottom: 0.4em;background-color: white;}#sk-container-id-7 div.sk-label label {font-family: monospace;font-weight: bold;display: inline-block;line-height: 1.2em;}#sk-container-id-7 div.sk-label-container {text-align: center;}#sk-container-id-7 div.sk-container {/* jupyter's `normalize.less` sets `[hidden] { display: none; }` but bootstrap.min.css set `[hidden] { display: none !important; }` so we also need the `!important` here to be able to override the default hidden behavior on the sphinx rendered scikit-learn.org. See: https://github.com/scikit-learn/scikit-learn/issues/21755 */display: inline-block !important;position: relative;}#sk-container-id-7 div.sk-text-repr-fallback {display: none;}</style><div id=\"sk-container-id-7\" class=\"sk-top-container\"><div class=\"sk-text-repr-fallback\"><pre>RandomForestClassifier(criterion=&#x27;entropy&#x27;, random_state=1)</pre><b>In a Jupyter environment, please rerun this cell to show the HTML representation or trust the notebook. <br />On GitHub, the HTML representation is unable to render, please try loading this page with nbviewer.org.</b></div><div class=\"sk-container\" hidden><div class=\"sk-item\"><div class=\"sk-estimator sk-toggleable\"><input class=\"sk-toggleable__control sk-hidden--visually\" id=\"sk-estimator-id-7\" type=\"checkbox\" checked><label for=\"sk-estimator-id-7\" class=\"sk-toggleable__label sk-toggleable__label-arrow\">RandomForestClassifier</label><div class=\"sk-toggleable__content\"><pre>RandomForestClassifier(criterion=&#x27;entropy&#x27;, random_state=1)</pre></div></div></div></div></div>"
      ],
      "text/plain": [
       "RandomForestClassifier(criterion='entropy', random_state=1)"
      ]
     },
     "execution_count": 455,
     "metadata": {},
     "output_type": "execute_result"
    }
   ],
   "source": [
    "#Creating the model to get the best accuracy\n",
    "random_forest_classifier_model = RandomForestClassifier(random_state=1,criterion='entropy')\n",
    "\n",
    "#Training the model\n",
    "random_forest_classifier_model.fit(train_X,train_y)"
   ]
  },
  {
   "cell_type": "code",
   "execution_count": 456,
   "id": "8f0e1a3f",
   "metadata": {},
   "outputs": [],
   "source": [
    "import pickle\n",
    "\n",
    "# Save the model to a file\n",
    "with open('salary_recommendation_system_model.pkl', 'wb') as file:\n",
    "    pickle.dump(random_forest_classifier_model, file)\n"
   ]
  },
  {
   "cell_type": "code",
   "execution_count": 457,
   "id": "3facd941",
   "metadata": {},
   "outputs": [
    {
     "name": "stdout",
     "output_type": "stream",
     "text": [
      "Final Score : 0.5648854961832062\n"
     ]
    }
   ],
   "source": [
    "prediction_of_salary = random_forest_classifier_model.predict(test_X)\n",
    "print(f'Final Score : {accuracy_score(test_Y,prediction_of_salary)}')"
   ]
  },
  {
   "cell_type": "code",
   "execution_count": 458,
   "id": "79c6e4ec",
   "metadata": {},
   "outputs": [
    {
     "data": {
      "image/png": "[encoded data removed]",
      "text/plain": [
       "<Figure size 640x480 with 1 Axes>"
      ]
     },
     "metadata": {},
     "output_type": "display_data"
    }
   ],
   "source": [
    "feat_importances = pd.Series(random_forest_classifier_model.feature_importances_, index=X.columns)\n",
    "feat_importances.nlargest(10).plot(kind='barh')\n",
    "plt.title(\"Feature Importances\")\n",
    "plt.xlabel(\"Importance\")\n",
    "plt.ylabel(\"Feature\")\n",
    "plt.show()"
   ]
  },
  {
   "cell_type": "code",
   "execution_count": 459,
   "id": "15c6471e",
   "metadata": {},
   "outputs": [
    {
     "name": "stdout",
     "output_type": "stream",
     "text": [
      "0.7314420148992267\n"
     ]
    }
   ],
   "source": [
    "#Precision Score\n",
    "precision_score = precision_score(test_Y,prediction_of_salary, average='weighted',zero_division=1)\n",
    "print(precision_score)"
   ]
  },
  {
   "cell_type": "code",
   "execution_count": 460,
   "id": "de380de6",
   "metadata": {},
   "outputs": [
    {
     "name": "stdout",
     "output_type": "stream",
     "text": [
      "Recall: 0.5648854961832062\n"
     ]
    }
   ],
   "source": [
    "#recall score\n",
    "recall_score = recall_score(test_Y,prediction_of_salary, average='weighted')\n",
    "print(\"Recall:\", recall_score)"
   ]
  },
  {
   "cell_type": "code",
   "execution_count": 461,
   "id": "da18bb03",
   "metadata": {},
   "outputs": [
    {
     "name": "stdout",
     "output_type": "stream",
     "text": [
      "F1 Score: 0.5523443473814706\n"
     ]
    }
   ],
   "source": [
    "#F1 score\n",
    "f1 = f1_score(test_Y,prediction_of_salary, average='weighted')\n",
    "print(\"F1 Score:\", f1)"
   ]
  },
  {
   "cell_type": "code",
   "execution_count": 462,
   "id": "ad12f35b",
   "metadata": {},
   "outputs": [
    {
     "name": "stdout",
     "output_type": "stream",
     "text": [
      "ROC AUC Score: 0.9952228150446363\n"
     ]
    }
   ],
   "source": [
    "#roc and auc score\n",
    "roc_auc = roc_auc_score(test_Y, random_forest_classifier_model.predict_proba(test_X), multi_class='ovo')\n",
    "print(\"ROC AUC Score:\", roc_auc)"
   ]
  },
  {
   "cell_type": "code",
   "execution_count": 463,
   "id": "42a29581",
   "metadata": {},
   "outputs": [
    {
     "name": "stdout",
     "output_type": "stream",
     "text": [
      "Confusion Matrix:\n",
      " [[2 0 0 ... 0 0 0]\n",
      " [1 2 0 ... 0 0 0]\n",
      " [0 0 1 ... 0 0 0]\n",
      " ...\n",
      " [0 0 0 ... 1 0 0]\n",
      " [0 0 0 ... 0 1 0]\n",
      " [0 0 0 ... 0 0 1]]\n"
     ]
    }
   ],
   "source": [
    "#Confusion Matrix\n",
    "cm = confusion_matrix(test_Y,prediction_of_salary)\n",
    "print(\"Confusion Matrix:\\n\", cm)"
   ]
  },
  {
   "cell_type": "code",
   "execution_count": 464,
   "id": "14041655",
   "metadata": {},
   "outputs": [
    {
     "name": "stdout",
     "output_type": "stream",
     "text": [
      "Classification report:\n",
      "              precision    recall  f1-score   support\n",
      "\n",
      "       15000       0.67      1.00      0.80         2\n",
      "       20000       0.40      0.50      0.44         4\n",
      "       22000       1.00      1.00      1.00         1\n",
      "       30000       0.62      0.62      0.62         8\n",
      "       31360       1.00      0.00      0.00         1\n",
      "       35000       0.50      0.50      0.50         2\n",
      "       40000       0.20      0.50      0.29         4\n",
      "       50000       1.00      0.00      0.00         6\n",
      "       55000       1.00      0.00      0.00         1\n",
      "       60000       0.50      0.54      0.52        13\n",
      "       64000       0.33      1.00      0.50         1\n",
      "       65000       1.00      0.00      0.00         1\n",
      "       70000       0.21      0.29      0.24        14\n",
      "       75000       0.60      0.75      0.67         4\n",
      "       77000       1.00      0.00      0.00         1\n",
      "       80000       0.56      0.36      0.43        14\n",
      "       82000       1.00      1.00      1.00         1\n",
      "       85000       0.50      0.50      0.50         2\n",
      "       88000       1.00      1.00      1.00         1\n",
      "       90000       0.33      0.18      0.24        11\n",
      "       95000       1.00      1.00      1.00         1\n",
      "      100000       0.29      0.44      0.35        18\n",
      "      107000       0.50      1.00      0.67         1\n",
      "      108120       1.00      0.00      0.00         1\n",
      "      110000       0.80      0.31      0.44        13\n",
      "      112000       1.00      1.00      1.00         1\n",
      "      112360       1.00      1.00      1.00         1\n",
      "      120000       0.83      0.50      0.62        10\n",
      "      120416       1.00      0.00      0.00         1\n",
      "      125000       1.00      1.00      1.00         1\n",
      "      130000       0.43      0.67      0.52         9\n",
      "      140000       0.83      0.56      0.67         9\n",
      "      140160       1.00      1.00      1.00         1\n",
      "      144474       1.00      0.00      0.00         1\n",
      "      145000       0.25      1.00      0.40         1\n",
      "      150000       0.90      0.60      0.72        15\n",
      "      160000       1.00      0.25      0.40         4\n",
      "      165000       1.00      0.00      0.00         1\n",
      "      167360       1.00      1.00      1.00         1\n",
      "      170000       0.12      1.00      0.22         1\n",
      "      175000       0.06      1.00      0.11         1\n",
      "      180000       0.50      0.60      0.55         5\n",
      "      180200       1.00      1.00      1.00         1\n",
      "      190000       1.00      1.00      1.00         1\n",
      "      192000       1.00      1.00      1.00         1\n",
      "      197000       1.00      1.00      1.00         1\n",
      "      200000       0.75      0.55      0.63        11\n",
      "      205000       1.00      0.00      0.00         1\n",
      "      206960       1.00      1.00      1.00         1\n",
      "      210000       1.00      0.12      0.22         8\n",
      "      212000       1.00      0.00      0.00         1\n",
      "      218900       1.00      0.00      0.00         1\n",
      "      220000       0.33      1.00      0.50         1\n",
      "      225000       0.33      1.00      0.50         1\n",
      "      226000       1.00      0.00      0.00         1\n",
      "      230000       0.36      0.57      0.44         7\n",
      "      231387       1.00      1.00      1.00         1\n",
      "      235000       1.00      0.00      0.00         2\n",
      "      239000       1.00      0.00      0.00         1\n",
      "      240000       1.00      0.00      0.00         2\n",
      "      250000       0.67      0.50      0.57         4\n",
      "      253000       1.00      0.00      0.00         1\n",
      "      256000       0.33      1.00      0.50         2\n",
      "      260000       1.00      0.43      0.60         7\n",
      "      265000       1.00      1.00      1.00         1\n",
      "      267000       1.00      0.00      0.00         1\n",
      "      270000       0.50      0.50      0.50         2\n",
      "      271000       1.00      1.00      1.00         1\n",
      "      272000       1.00      0.50      0.67         2\n",
      "      275000       0.33      1.00      0.50         2\n",
      "      277000       1.00      1.00      1.00         1\n",
      "      280000       1.00      1.00      1.00         3\n",
      "      282000       1.00      0.00      0.00         1\n",
      "      285000       0.67      1.00      0.80         2\n",
      "      289200       1.00      1.00      1.00         1\n",
      "      290000       1.00      0.50      0.67         2\n",
      "      295000       0.50      1.00      0.67         1\n",
      "      300000       0.83      0.71      0.77         7\n",
      "      306800       1.00      0.00      0.00         1\n",
      "      310000       1.00      0.00      0.00         1\n",
      "      316800       1.00      1.00      1.00         1\n",
      "      320000       0.28      0.62      0.38         8\n",
      "      322240       1.00      0.00      0.00         1\n",
      "      325000       1.00      0.00      0.00         1\n",
      "      329500       1.00      1.00      1.00         1\n",
      "      330000       1.00      0.00      0.00         1\n",
      "      350000       1.00      0.33      0.50         3\n",
      "      352000       0.75      1.00      0.86         3\n",
      "      352960       1.00      1.00      1.00         1\n",
      "      355100       1.00      1.00      1.00         1\n",
      "      368000       1.00      0.00      0.00         1\n",
      "      370000       0.33      1.00      0.50         2\n",
      "      375000       1.00      0.00      0.00         1\n",
      "      376000       1.00      1.00      1.00         1\n",
      "      380000       1.00      1.00      1.00         1\n",
      "      383900       0.25      1.00      0.40         1\n",
      "      384000       1.00      0.50      0.67         2\n",
      "      385000       1.00      1.00      1.00         2\n",
      "      390000       1.00      1.00      1.00         1\n",
      "      395380       1.00      1.00      1.00         1\n",
      "      398000       1.00      0.00      0.00         1\n",
      "      400000       1.00      0.60      0.75         5\n",
      "      405000       0.33      1.00      0.50         1\n",
      "      411200       1.00      0.00      0.00         1\n",
      "      420000       1.00      1.00      1.00         1\n",
      "      422304       1.00      0.00      0.00         1\n",
      "      424000       1.00      1.00      1.00         1\n",
      "      430000       0.75      1.00      0.86         3\n",
      "      440000       1.00      0.00      0.00         2\n",
      "      441600       1.00      0.00      0.00         1\n",
      "      448000       0.33      1.00      0.50         1\n",
      "      450000       1.00      0.80      0.89         5\n",
      "      477000       1.00      1.00      1.00         1\n",
      "      480000       1.00      0.50      0.67         2\n",
      "      494000       1.00      1.00      1.00         1\n",
      "      496000       1.00      1.00      1.00         1\n",
      "      497000       1.00      1.00      1.00         1\n",
      "      500000       1.00      1.00      1.00         1\n",
      "      509440       1.00      0.00      0.00         1\n",
      "      512000       1.00      0.67      0.80         3\n",
      "      517400       1.00      1.00      1.00         1\n",
      "      530560       1.00      1.00      1.00         1\n",
      "      540000       1.00      1.00      1.00         1\n",
      "      544000       1.00      1.00      1.00         2\n",
      "      550000       1.00      1.00      1.00         1\n",
      "      555000       1.00      1.00      1.00         1\n",
      "      560000       0.50      1.00      0.67         1\n",
      "      570000       1.00      0.00      0.00         1\n",
      "      580000       1.00      1.00      1.00         1\n",
      "      597000       1.00      1.00      1.00         1\n",
      "      600000       1.00      1.00      1.00         1\n",
      "      612160       1.00      0.00      0.00         1\n",
      "      613440       1.00      0.00      0.00         1\n",
      "      616900       1.00      1.00      1.00         1\n",
      "      630000       1.00      1.00      1.00         1\n",
      "      636000       1.00      1.00      1.00         1\n",
      "      640000       0.67      0.67      0.67         3\n",
      "      645650       1.00      1.00      1.00         1\n",
      "      650000       1.00      1.00      1.00         3\n",
      "      702400       0.50      1.00      0.67         1\n",
      "      726400       1.00      0.00      0.00         1\n",
      "      752000       1.00      1.00      1.00         1\n",
      "      765000       1.00      1.00      1.00         1\n",
      "      800000       1.00      1.00      1.00         1\n",
      "      832000       1.00      1.00      1.00         3\n",
      "      870400       1.00      1.00      1.00         1\n",
      "      896000       1.00      1.00      1.00         1\n",
      "      942300       1.00      1.00      1.00         1\n",
      "      960000       0.50      0.67      0.57         3\n",
      "     1006720       1.00      1.00      1.00         1\n",
      "     1240200       1.00      1.00      1.00         1\n",
      "     1280000       1.00      1.00      1.00         1\n",
      "     1376000       1.00      1.00      1.00         1\n",
      "     1500000       1.00      1.00      1.00         1\n",
      "     1566500       1.00      0.00      0.00         1\n",
      "     1600000       1.00      1.00      1.00         1\n",
      "     1638800       1.00      0.00      0.00         1\n",
      "     2048500       1.00      1.00      1.00         1\n",
      "     2240000       1.00      1.00      1.00         1\n",
      "     2560000       1.00      1.00      1.00         1\n",
      "     3980000       1.00      1.00      1.00         1\n",
      "\n",
      "    accuracy                           0.56       393\n",
      "   macro avg       0.86      0.65      0.61       393\n",
      "weighted avg       0.73      0.56      0.55       393\n",
      "\n"
     ]
    }
   ],
   "source": [
    "from sklearn.metrics import classification_report\n",
    "\n",
    "# Compute precision, recall, and F1-score for each class\n",
    "report = classification_report(test_Y, prediction_of_salary,zero_division=1)\n",
    "\n",
    "# Print the report\n",
    "print(\"Classification report:\")\n",
    "print(report)"
   ]
  },
  {
   "cell_type": "code",
   "execution_count": 465,
   "id": "3ab69ed7",
   "metadata": {},
   "outputs": [
    {
     "name": "stdout",
     "output_type": "stream",
     "text": [
      "Matthews Correlation Coefficient: 0.5597837635261315\n"
     ]
    }
   ],
   "source": [
    "mcc = matthews_corrcoef(test_Y,prediction_of_salary)\n",
    "print(\"Matthews Correlation Coefficient:\", mcc)"
   ]
  },
  {
   "cell_type": "code",
   "execution_count": 466,
   "id": "a333f91a",
   "metadata": {},
   "outputs": [
    {
     "name": "stdout",
     "output_type": "stream",
     "text": [
      "Cohen's Kappa Score: 0.5577848113760042\n"
     ]
    }
   ],
   "source": [
    "kappa = cohen_kappa_score(test_Y,prediction_of_salary)\n",
    "print(\"Cohen's Kappa Score:\", kappa)"
   ]
  },
  {
   "cell_type": "code",
   "execution_count": 467,
   "id": "37d0fb6b",
   "metadata": {},
   "outputs": [
    {
     "name": "stdout",
     "output_type": "stream",
     "text": [
      "Balanced Accuracy Score: 0.6546929778296238\n"
     ]
    }
   ],
   "source": [
    "bal_acc = balanced_accuracy_score(test_Y,prediction_of_salary)\n",
    "print(\"Balanced Accuracy Score:\", bal_acc)"
   ]
  },
  {
   "cell_type": "code",
   "execution_count": 468,
   "id": "aee02dcb",
   "metadata": {},
   "outputs": [
    {
     "name": "stdout",
     "output_type": "stream",
     "text": [
      "Logarithmic Loss: 1.1272968694153906\n"
     ]
    }
   ],
   "source": [
    "logloss = log_loss(test_Y, random_forest_classifier_model.predict_proba(test_X))\n",
    "print(\"Logarithmic Loss:\", logloss)"
   ]
  },
  {
   "cell_type": "code",
   "execution_count": 469,
   "id": "d75020f4",
   "metadata": {},
   "outputs": [
    {
     "name": "stdout",
     "output_type": "stream",
     "text": [
      "     Work experience  Education  Company size  Designation\n",
      "477                3          0             0           54\n",
      "314                3          0             5           48\n",
      "304                5          3             3           57\n",
      "521                4          0             5           48\n",
      "180                4          0             5           35\n"
     ]
    }
   ],
   "source": [
    "print(train_X.head())"
   ]
  },
  {
   "cell_type": "code",
   "execution_count": 470,
   "id": "9ba975fc",
   "metadata": {},
   "outputs": [
    {
     "name": "stdout",
     "output_type": "stream",
     "text": [
      "R-squared score: 0.8091047783487202\n"
     ]
    }
   ],
   "source": [
    "from sklearn.metrics import r2_score\n",
    "r2 = r2_score(test_Y,prediction_of_salary)\n",
    "print(f\"R-squared score: {r2}\")"
   ]
  },
  {
   "cell_type": "code",
   "execution_count": 471,
   "id": "b55ebb28",
   "metadata": {},
   "outputs": [
    {
     "name": "stdout",
     "output_type": "stream",
     "text": [
      "X:       Work experience  Education  Company size  Designation\n",
      "477                3          0             0           54\n",
      "Y:  477    100000\n",
      "Name: Amount, dtype: int64\n",
      "[175000 275000 300000 100000 300000]\n"
     ]
    }
   ],
   "source": [
    "output = random_forest_classifier_model.predict(train_X.head())\n",
    "\n",
    "print(\"X: \",train_X.head(1))\n",
    "print(\"Y: \", train_y.head(1))\n",
    "\n",
    "print(output)"
   ]
  },
  {
   "cell_type": "code",
   "execution_count": 472,
   "id": "1210682f",
   "metadata": {},
   "outputs": [],
   "source": [
    "import pickle\n",
    "\n",
    "# Load the saved model from file\n",
    "with open('salary_recommendation_system_model.pkl', 'rb') as file:\n",
    "    saved_model = pickle.load(file)\n",
    "    \n",
    "with open('encoded_dataset.pkl', 'rb') as file:\n",
    "    encoding = pickle.load(file)\n"
   ]
  },
  {
   "cell_type": "code",
   "execution_count": 473,
   "id": "5455bbcb",
   "metadata": {},
   "outputs": [
    {
     "name": "stdout",
     "output_type": "stream",
     "text": [
      "[230000]\n"
     ]
    }
   ],
   "source": [
    "user_inputs = pd.DataFrame({\n",
    "    'Work experience': [3],\n",
    "    'Education': [0],\n",
    "    'Company size': [0],\n",
    "    'Designation': [48]\n",
    "})\n",
    "\n",
    "# Make a prediction for the user inputs\n",
    "prediction = saved_model.predict(user_inputs)\n",
    "print(prediction)"
   ]
  },
  {
   "cell_type": "code",
   "execution_count": 474,
   "id": "bc5b50fb",
   "metadata": {},
   "outputs": [],
   "source": [
    "# Create a TF-IDF vectorizer object and fit it to the content-based features in the input data\n",
    "data = pd.read_csv('cleaned_salary.csv')"
   ]
  },
  {
   "cell_type": "code",
   "execution_count": 475,
   "id": "0285067e",
   "metadata": {},
   "outputs": [],
   "source": [
    "# Preprocess the text data for the TF-IDF matrix\n",
    "data['text_features'] = data['Work experience'] + ' ' + data['Education'] + ' ' + data['Company size'] + ' ' + data['Designation']\n",
    "\n",
    "# Compute the TF-IDF matrix\n",
    "vectorizer = TfidfVectorizer()\n",
    "tfidf_matrix = vectorizer.fit_transform(data['text_features'])"
   ]
  },
  {
   "cell_type": "code",
   "execution_count": 476,
   "id": "1c02047f",
   "metadata": {},
   "outputs": [],
   "source": [
    "def get_similar_apps_for_all(input_one,input_two,input_three,input_four,Amount, N=10):\n",
    "    try:\n",
    "        input_index = data[ (data['Work experience'] == input_one) & (data['Education'] == input_two) & (data['Company size'] == input_three) & (data['Designation'] == input_four)].index[0]\n",
    "        input_vec = tfidf_matrix[input_index]\n",
    "        sim_scores = cosine_similarity(input_vec, tfidf_matrix)[0]\n",
    "        sim_indices = sim_scores.argsort()[::-1][1:N+1]\n",
    "        similar_apps = data.iloc[sim_indices][['Work experience','Education','Company size','Designation','Amount']]\n",
    "        similar_apps = similar_apps[similar_apps['Amount'] != int(Amount)]\n",
    "        return similar_apps\n",
    "    except Exception as e:\n",
    "        print(e)\n",
    "        return [{'e': 'eeror'}]"
   ]
  },
  {
   "cell_type": "code",
   "execution_count": 477,
   "id": "6c5c0909",
   "metadata": {},
   "outputs": [],
   "source": [
    "# Define a function to get recommendations using the hybrid approach\n",
    "def get_recommendations(input_one, input_two, input_three, input_four, N=10):\n",
    "    \n",
    "    for_prediction = pd.DataFrame({'Work experience': [3],'Education': [0],'Company size': [0],'Designation': [48]})\n",
    "    model_salary = random_forest_classifier_model.predict(for_prediction)\n",
    "    similar_jobs = get_similar_apps_for_all(input_one, input_two, input_three, input_four,model_salary, N=N)\n",
    "    \n",
    "    similar_jobs_df = pd.DataFrame(similar_jobs)\n",
    "    similar_jobs_dict = similar_jobs_df.to_dict('records')\n",
    "    recommendations_final_value = { 'content_salary': similar_jobs_dict,'model_salary': model_salary}\n",
    "    return recommendations_final_value"
   ]
  },
  {
   "cell_type": "code",
   "execution_count": 478,
   "id": "5a6a8392",
   "metadata": {},
   "outputs": [
    {
     "data": {
      "text/plain": [
       "{'content_salary': [{'Work experience': '1_to_3',\n",
       "   'Education': 'bachelors_degree',\n",
       "   'Company size': '100_to_500',\n",
       "   'Designation': 'senior_software_engineer',\n",
       "   'Amount': 440000},\n",
       "  {'Work experience': '1_to_3',\n",
       "   'Education': 'bachelors_degree',\n",
       "   'Company size': '100_to_500',\n",
       "   'Designation': 'senior_software_engineer',\n",
       "   'Amount': 250000},\n",
       "  {'Work experience': '1_to_3',\n",
       "   'Education': 'bachelors_degree',\n",
       "   'Company size': '100_to_500',\n",
       "   'Designation': 'senior_software_engineer',\n",
       "   'Amount': 90000},\n",
       "  {'Work experience': '1_to_3',\n",
       "   'Education': 'bachelors_degree',\n",
       "   'Company size': '100_to_500',\n",
       "   'Designation': 'senior_software_engineer',\n",
       "   'Amount': 306800}],\n",
       " 'model_salary': array([230000], dtype=int64)}"
      ]
     },
     "execution_count": 478,
     "metadata": {},
     "output_type": "execute_result"
    }
   ],
   "source": [
    "get_recommendations('1_to_3', 'bachelors_degree', '100_to_500', 'senior_software_engineer', N=5)"
   ]
  },
  {
   "cell_type": "code",
   "execution_count": 479,
   "id": "3ce73515",
   "metadata": {},
   "outputs": [
    {
     "name": "stdout",
     "output_type": "stream",
     "text": [
      "Support Vector Machines Classifier Accuracy Score: 0.05343511450381679\n"
     ]
    }
   ],
   "source": [
    "from sklearn.svm import SVC\n",
    "from sklearn.metrics import accuracy_score\n",
    "\n",
    "# Split the data into training and testing sets\n",
    "train_X, test_X, train_y, test_y = train_test_split(X, y, random_state=1)\n",
    "test_X,test_Y = train_X,train_y\n",
    "\n",
    "# Create a Support Vector Machines classifier model and fit it to the training data\n",
    "svm_model = SVC()\n",
    "svm_model.fit(train_X, train_y)\n",
    "\n",
    "# Make predictions on the test data and calculate the accuracy score\n",
    "pred_y = svm_model.predict(test_X)\n",
    "acc_score = accuracy_score(test_Y, pred_y)\n",
    "print(\"Support Vector Machines Classifier Accuracy Score:\", acc_score)\n"
   ]
  },
  {
   "cell_type": "code",
   "execution_count": 480,
   "id": "c4e060d5",
   "metadata": {},
   "outputs": [
    {
     "name": "stdout",
     "output_type": "stream",
     "text": [
      "Decision Tree Classifier Accuracy Score: 0.5648854961832062\n"
     ]
    }
   ],
   "source": [
    "from sklearn.tree import DecisionTreeClassifier\n",
    "from sklearn.metrics import accuracy_score\n",
    "from sklearn.model_selection import train_test_split\n",
    "\n",
    "# Split the data into training and testing sets\n",
    "train_X, test_X,train_y, test_y = train_test_split(X, y, random_state=1)\n",
    "test_X,test_Y = train_X,train_y\n",
    "\n",
    "# Create a decision tree classifier model and fit it to the training data\n",
    "dtc_model = DecisionTreeClassifier(random_state=1,criterion='entropy')\n",
    "dtc_model.fit(train_X, train_y)\n",
    "\n",
    "# Make predictions on the test data and calculate the accuracy score\n",
    "pred_y = dtc_model.predict(test_X)\n",
    "acc_score = accuracy_score(test_Y, pred_y)\n",
    "print(\"Decision Tree Classifier Accuracy Score:\", acc_score)\n"
   ]
  },
  {
   "cell_type": "code",
   "execution_count": 481,
   "id": "537b30ef",
   "metadata": {},
   "outputs": [
    {
     "name": "stdout",
     "output_type": "stream",
     "text": [
      "K-Nearest Neighbors Classifier Accuracy Score: 0.16539440203562342\n"
     ]
    }
   ],
   "source": [
    "from sklearn.neighbors import KNeighborsClassifier\n",
    "from sklearn.metrics import accuracy_score\n",
    "\n",
    "# Split the data into training and testing sets\n",
    "train_X, test_X,train_y, test_y = train_test_split(X, y, random_state=1)\n",
    "test_X,test_Y = train_X,train_y\n",
    "\n",
    "# Create a K-Nearest Neighbors classifier model and fit it to the training data\n",
    "knn_model = KNeighborsClassifier()\n",
    "knn_model.fit(train_X, train_y)\n",
    "\n",
    "# Make predictions on the test data and calculate the accuracy score\n",
    "pred_y = knn_model.predict(test_X)\n",
    "acc_score = accuracy_score(test_Y, pred_y)\n",
    "print(\"K-Nearest Neighbors Classifier Accuracy Score:\", acc_score)"
   ]
  },
  {
   "cell_type": "code",
   "execution_count": null,
   "id": "3376a178",
   "metadata": {},
   "outputs": [],
   "source": []
  }
 ],
 "metadata": {
  "kernelspec": {
   "display_name": "Python 3 (ipykernel)",
   "language": "python",
   "name": "python3"
  },
  "language_info": {
   "codemirror_mode": {
    "name": "ipython",
    "version": 3
   },
   "file_extension": ".py",
   "mimetype": "text/x-python",
   "name": "python",
   "nbconvert_exporter": "python",
   "pygments_lexer": "ipython3",
   "version": "3.9.13"
  }
 },
 "nbformat": 4,
 "nbformat_minor": 5
}
