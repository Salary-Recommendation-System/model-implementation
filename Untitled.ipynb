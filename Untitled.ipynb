{
 "cells": [
  {
   "cell_type": "code",
   "execution_count": null,
   "id": "ad7b9fae",
   "metadata": {},
   "outputs": [],
   "source": [
    "from sklearn.preprocessing import StandardScaler\n",
    "scaler = StandardScaler()\n",
    "salary_information_data[['Amount']] = scaler.fit_transform(salary_information_data[['Amount']])"
   ]
  },
  {
   "cell_type": "code",
   "execution_count": null,
   "id": "a4a7a28e",
   "metadata": {},
   "outputs": [],
   "source": [
    "from sklearn.model_selection import train_test_split\n",
    "\n",
    "X = salary_information_data.drop('Amount', axis=1)\n",
    "y = salary_information_data['Amount']\n",
    "\n",
    "X_train, X_test, y_train, y_test = train_test_split(X, y,random_state=42)\n"
   ]
  },
  {
   "cell_type": "code",
   "execution_count": null,
   "id": "886f4652",
   "metadata": {},
   "outputs": [],
   "source": [
    "import matplotlib.pyplot as plt\n",
    "import seaborn as sns\n",
    "\n",
    "# Calculate the correlation matrix\n",
    "corr = salary_information_data.corr()\n",
    "\n",
    "# Plot the correlation matrix\n",
    "plt.figure(figsize=(20,10))\n",
    "sns.heatmap(corr, annot=True, cmap='coolwarm')\n",
    "plt.show()\n",
    "\n",
    "# Select the relevant features\n",
    "relevant_features = corr.index[abs(corr['Amount']) > 0.5]\n",
    "print(relevant_features)\n"
   ]
  },
  {
   "cell_type": "code",
   "execution_count": null,
   "id": "697320d7",
   "metadata": {},
   "outputs": [],
   "source": [
    "from sklearn.ensemble import RandomForestRegressor\n",
    "\n",
    "# Create the random forest regression model\n",
    "regressor = RandomForestRegressor(n_estimators=100, random_state=42)\n",
    "\n",
    "# Train the model on the selected features\n",
    "regressor.fit(X_train[relevant_features], y_train)\n"
   ]
  },
  {
   "cell_type": "code",
   "execution_count": null,
   "id": "32279679",
   "metadata": {},
   "outputs": [],
   "source": [
    "from sklearn.metrics import mean_squared_error, mean_absolute_error, r2_score\n",
    "\n",
    "# Evaluate the model on the testing set\n",
    "y_pred = regressor.predict(X_test[relevant_features])\n",
    "mse = mean_squared_error(y_test, y_pred)\n",
    "mae = mean_absolute_error(y_test, y_pred)\n",
    "r2 = r2_score(y_test, y_pred)\n",
    "\n",
    "# Print the evaluation metrics\n",
    "print(\"Mean Squared Error:\", mse)\n",
    "print(\"Mean Absolute Error:\", mae)\n",
    "print(\"R-squared:\", r2)\n"
   ]
  },
  {
   "cell_type": "code",
   "execution_count": null,
   "id": "f2f53643",
   "metadata": {},
   "outputs": [],
   "source": [
    "from sklearn.model_selection import GridSearchCV\n",
    "\n",
    "# Define the hyperparameters to tune\n",
    "param_grid = {\n",
    "    'n_estimators': [50, 100, 200],\n",
    "    'max_depth': [5, 10, 20],\n",
    "    'min_samples_split': [2, 5, 10],\n",
    "    'min_samples_leaf': [1, 2, 4]\n",
    "}\n",
    "\n",
    "# Create a GridSearchCV object\n",
    "grid_search = GridSearchCV(estimator=RandomForestRegressor(), param_grid=param_grid, cv=5)\n",
    "\n",
    "# Fit the GridSearchCV object to the training data\n",
    "grid_search.fit(X_train, y_train)\n",
    "\n",
    "# Get the best hyperparameters and the corresponding model score\n",
    "best_params = grid_search.best_params_\n",
    "best_score = grid_search.best_score_\n",
    "print(\"Best Hyperparameters:\", best_params)\n",
    "print(\"Best Score:\", best_score)\n"
   ]
  },
  {
   "cell_type": "code",
   "execution_count": null,
   "id": "2a1a4237",
   "metadata": {},
   "outputs": [],
   "source": [
    "from sklearn.model_selection import train_test_split\n",
    "from sklearn.metrics import r2_score\n",
    "\n",
    "# Split the data into training and validation sets\n",
    "train_df, val_df = train_test_split(salary_information_data, test_size=0.2, random_state=42)\n"
   ]
  },
  {
   "cell_type": "code",
   "execution_count": null,
   "id": "b93d4d9e",
   "metadata": {},
   "outputs": [],
   "source": [
    "from sklearn.preprocessing import MinMaxScaler\n",
    "\n",
    "# Scale the numerical variables using MinMaxScaler\n",
    "scaler = MinMaxScaler()\n",
    "train_df[[\"Amount\"]] = scaler.fit_transform(train_df[[\"Amount\"]])\n",
    "val_df[[\"Amount\"]] = scaler.transform(val_df[[\"Amount\"]])\n"
   ]
  },
  {
   "cell_type": "code",
   "execution_count": null,
   "id": "bb52c6f2",
   "metadata": {},
   "outputs": [],
   "source": [
    "import tensorflow as tf\n",
    "from tensorflow import keras\n",
    "\n",
    "# Build a deep learning model using Keras\n",
    "model = keras.Sequential([\n",
    "    keras.layers.Dense(64, activation=\"relu\", input_shape=(train_df.shape[1]-1,)),\n",
    "    keras.layers.Dense(32, activation=\"relu\"),\n",
    "    keras.layers.Dense(1)\n",
    "])\n",
    "\n",
    "# Compile the model\n",
    "model.compile(optimizer=\"adam\", loss=\"mse\")\n"
   ]
  },
  {
   "cell_type": "code",
   "execution_count": null,
   "id": "9bc516a6",
   "metadata": {},
   "outputs": [],
   "source": [
    "# Evaluate the model on the validation data\n",
    "loss = model.evaluate(val_df.drop(columns=[\"Amount\"]), val_df[\"Amount\"], verbose=0)\n",
    "print(\"Mean squared error on validation data:\", loss)\n",
    "\n",
    "# Predict the salaries of the validation data\n",
    "y_pred = model.predict(val_df.drop(columns=[\"Amount\"]))\n",
    "\n",
    "# Calculate the R2 score\n",
    "from sklearn.metrics import r2_score\n",
    "r2 = r2_score(val_df[\"Amount\"], y_pred)\n",
    "print(\"R2 score on validation data:\", r2)\n"
   ]
  },
  {
   "cell_type": "code",
   "execution_count": null,
   "id": "bad3ca6d",
   "metadata": {},
   "outputs": [],
   "source": [
    "from sklearn.preprocessing import LabelEncoder\n",
    "from sklearn.tree import DecisionTreeRegressor\n",
    "from sklearn.model_selection import train_test_split\n",
    "from sklearn.ensemble import RandomForestRegressor\n",
    "from sklearn.metrics import r2_score, mean_squared_error\n",
    "from sklearn.compose import ColumnTransformer\n",
    "from sklearn.linear_model import LinearRegression"
   ]
  },
  {
   "cell_type": "code",
   "execution_count": null,
   "id": "31d25c36",
   "metadata": {},
   "outputs": [],
   "source": [
    "from sklearn.metrics import mean_absolute_error\n",
    "\n",
    "data_encoded = pd.get_dummies(salary_information_data)\n",
    "# Splitting the data into train and test sets\n",
    "X = data_encoded.drop('Amount', axis=1)\n",
    "y = data_encoded['Amount']\n",
    "X_train, X_test, y_train, y_test = train_test_split(X, y, test_size=0.1, random_state=42)\n",
    "\n",
    "# Training a linear regression model on the training set\n",
    "reg = LinearRegression()\n",
    "reg.fit(X_train, y_train)\n",
    "\n",
    "# Predicting salaries on the test set\n",
    "y_pred = reg.predict(X_test)\n",
    "\n",
    "# Evaluating the model using mean absolute error and R^2 score\n",
    "mae = mean_absolute_error(y_test, y_pred)\n",
    "r2 = r2_score(y_test, y_pred)\n",
    "print(\"Mean Absolute Error:\", mae)\n",
    "print(\"R^2 Score:\", r2)"
   ]
  },
  {
   "cell_type": "code",
   "execution_count": null,
   "id": "e87ab4e4",
   "metadata": {},
   "outputs": [],
   "source": [
    "le = LabelEncoder()\n",
    "salary_information_data['Designation'] = le.fit_transform(salary_information_data['Designation'])\n",
    "#salary_information_data['Education'] = le.fit_transform(salary_information_data['Education'])\n",
    "salary_information_data['Company size'] = le.fit_transform(salary_information_data['Company size'])\n",
    "salary_information_data['Work experience'] = le.fit_transform(salary_information_data['Work experience'])\n",
    "ct = ColumnTransformer([\n",
    "    ('encoder', OneHotEncoder(), [0, 1, 2, 4]),  # encode columns 0, 1, 2, 4\n",
    "    ('passthrough', 'passthrough', [3, 5])  # leave columns 3, 5 as they are\n",
    "])\n",
    "salary_information_data = ct.fit_transform(salary_information_data)"
   ]
  },
  {
   "cell_type": "code",
   "execution_count": null,
   "id": "7cc1549b",
   "metadata": {},
   "outputs": [],
   "source": [
    "X = data[:, :-1]\n",
    "y = data[:, -1]\n",
    "X_train, X_test, y_train, y_test = train_test_split(X, y, test_size=0.2, random_state=42)"
   ]
  },
  {
   "cell_type": "code",
   "execution_count": null,
   "id": "78bbbf5a",
   "metadata": {},
   "outputs": [],
   "source": [
    "lr = LinearRegression()\n",
    "lr.fit(X_train, y_train)\n",
    "\n",
    "# Make predictions on the test set\n",
    "y_pred = lr.predict(X_test)"
   ]
  },
  {
   "cell_type": "code",
   "execution_count": null,
   "id": "b12a87ea",
   "metadata": {},
   "outputs": [],
   "source": [
    "X = salary_information_data.drop(['Amount'], axis=1)\n",
    "y = salary_information_data['Amount']\n",
    "X_train, X_test, y_train, y_test = train_test_split(X, y, test_size=0.2, random_state=42)\n"
   ]
  },
  {
   "cell_type": "code",
   "execution_count": null,
   "id": "ad434140",
   "metadata": {},
   "outputs": [],
   "source": [
    "model = DecisionTreeRegressor(random_state=42)\n",
    "model.fit(X_train, y_train)\n",
    "\n",
    "# evaluate the model\n",
    "score = model.score(X_test, y_test)\n",
    "print(f'R^2 score: {score:.2f}')"
   ]
  },
  {
   "cell_type": "code",
   "execution_count": null,
   "id": "cdade28a",
   "metadata": {},
   "outputs": [],
   "source": [
    "X = salary_information_data.drop(['Amount'], axis=1)\n",
    "y = salary_information_data['Amount']\n",
    "X_train, X_test, y_train, y_test = train_test_split(X, y, test_size=0.01, random_state=42)\n",
    "\n",
    "# Train the random forest regression model\n",
    "rf_model = RandomForestRegressor(n_estimators=100, random_state=42)\n",
    "rf_model.fit(X_train, y_train)\n",
    "\n",
    "# Make predictions on the test set\n",
    "y_pred = rf_model.predict(X_test)\n",
    "\n",
    "# Evaluate the model performance using R-squared and mean squared error\n",
    "r2 = r2_score(y_test, y_pred)\n",
    "mse = mean_squared_error(y_test, y_pred)"
   ]
  },
  {
   "cell_type": "code",
   "execution_count": null,
   "id": "de7ce070",
   "metadata": {},
   "outputs": [],
   "source": [
    "print(\"R-squared:\", r2)\n",
    "print(\"Mean Squared Error:\", mse)"
   ]
  },
  {
   "cell_type": "code",
   "execution_count": null,
   "id": "e5ff81d6",
   "metadata": {},
   "outputs": [],
   "source": [
    "import pandas as pd\n",
    "from sklearn.model_selection import train_test_split\n",
    "from sklearn.preprocessing import LabelEncoder, OneHotEncoder\n",
    "from sklearn.compose import ColumnTransformer\n",
    "from sklearn.linear_model import LinearRegression\n",
    "from sklearn.metrics import r2_score\n",
    "\n",
    "ct = ColumnTransformer([('encoder', OneHotEncoder(), [3])], remainder='passthrough')\n",
    "data = ct.fit_transform(salary_information_data)\n",
    "\n",
    "# Split the data into training and testing sets\n",
    "X = data[:, :-1]\n",
    "y = data[:, -1]\n",
    "X_train, X_test, y_train, y_test = train_test_split(X, y, test_size=0.2, random_state=42)\n",
    "\n",
    "# Train the model\n",
    "lr = LinearRegression()\n",
    "lr.fit(X_train, y_train)\n",
    "\n",
    "# Make predictions on the test set\n",
    "y_pred = lr.predict(X_test)\n",
    "\n",
    "# Evaluate the model\n",
    "r2 = r2_score(y_test, y_pred)\n",
    "print('R-squared:', r2)\n"
   ]
  },
  {
   "cell_type": "code",
   "execution_count": null,
   "id": "ec55308d",
   "metadata": {},
   "outputs": [],
   "source": [
    "import pandas as pd\n",
    "import numpy as np\n",
    "from sklearn.linear_model import LinearRegression\n",
    "from sklearn.decomposition import NMF\n",
    "from sklearn.feature_extraction.text import CountVectorizer\n",
    "from sklearn.metrics.pairwise import cosine_similarity"
   ]
  },
  {
   "cell_type": "code",
   "execution_count": null,
   "id": "0a0b2ef3",
   "metadata": {},
   "outputs": [],
   "source": [
    "vectorizer = CountVectorizer()\n",
    "job_title_features = vectorizer.fit_transform(salary_information_data['Designation'])"
   ]
  },
  {
   "cell_type": "code",
   "execution_count": null,
   "id": "7dd19f1c",
   "metadata": {},
   "outputs": [],
   "source": [
    "# Apply non-negative matrix factorization to identify latent factors\n",
    "matrix = salary_information_data.pivot_table(index='Designation', columns='Work experience', values='Amount')\n",
    "model = NMF(n_components=5, max_iter=1000)\n",
    "W = model.fit_transform(matrix)\n",
    "H = model.components_"
   ]
  },
  {
   "cell_type": "code",
   "execution_count": null,
   "id": "34a664fd",
   "metadata": {},
   "outputs": [],
   "source": [
    "X = salary_information_data[['Designation', 'Work experience', 'Education']]\n",
    "y = salary_information_data['Amount']\n",
    "regressor = LinearRegression()\n",
    "regressor.fit(X, y)"
   ]
  },
  {
   "cell_type": "code",
   "execution_count": null,
   "id": "13320e1c",
   "metadata": {},
   "outputs": [],
   "source": [
    "linear_weight = 0.4\n",
    "matrix_weight = 0.3\n",
    "content_weight = 0.3"
   ]
  },
  {
   "cell_type": "code",
   "execution_count": null,
   "id": "3058629b",
   "metadata": {},
   "outputs": [],
   "source": [
    "def recommend_salary(job_title, years_of_experience, education_level, location):\n",
    "    # Compute the salary prediction using linear regression\n",
    "    new_job = pd.DataFrame({'Designation': job_title, 'Work Experience': years_of_experience, \n",
    "                            'Education': education_level}, index=[0])\n",
    "    linear_prediction = regressor.predict(new_job)[0]\n",
    "\n",
    "    # Compute the salary prediction using matrix factorization\n",
    "    job_idx = matrix.index.get_loc(job_title)\n",
    "    job_similarities = np.dot(W[job_idx], W.T)\n",
    "    similar_jobs = np.argsort(-job_similarities)[1:6]\n",
    "    matrix_prediction = matrix.iloc[similar_jobs].mean().mean()\n",
    "\n",
    "    # Compute the salary prediction using content-based filtering\n",
    "    job_idx = data.index[data['Designation'] == job_title][0]\n",
    "    similar_jobs = cosine_similarity(job_title_features[job_idx], job_title_features)\n",
    "    content_prediction = data.iloc[similar_jobs[0].argsort()[::-1][1:6]]['Amount'].mean()\n",
    "\n",
    "    # Compute the weighted average of the salary predictions\n",
    "    prediction = linear_weight * linear_prediction + matrix_weight * matrix_prediction + content_weight * content_prediction\n",
    "    return prediction"
   ]
  },
  {
   "cell_type": "code",
   "execution_count": null,
   "id": "c649ff36",
   "metadata": {},
   "outputs": [],
   "source": []
  },
  {
   "cell_type": "code",
   "execution_count": null,
   "id": "733870c3",
   "metadata": {},
   "outputs": [],
   "source": []
  },
  {
   "cell_type": "code",
   "execution_count": null,
   "id": "fec149a2",
   "metadata": {},
   "outputs": [],
   "source": []
  },
  {
   "cell_type": "code",
   "execution_count": null,
   "id": "c49a9bea",
   "metadata": {},
   "outputs": [],
   "source": []
  },
  {
   "cell_type": "code",
   "execution_count": null,
   "id": "bf88609d",
   "metadata": {},
   "outputs": [],
   "source": []
  },
  {
   "cell_type": "code",
   "execution_count": null,
   "id": "1f3f7026",
   "metadata": {},
   "outputs": [],
   "source": []
  },
  {
   "cell_type": "code",
   "execution_count": null,
   "id": "6bec21d5",
   "metadata": {},
   "outputs": [],
   "source": []
  }
 ],
 "metadata": {
  "kernelspec": {
   "display_name": "Python 3 (ipykernel)",
   "language": "python",
   "name": "python3"
  },
  "language_info": {
   "codemirror_mode": {
    "name": "ipython",
    "version": 3
   },
   "file_extension": ".py",
   "mimetype": "text/x-python",
   "name": "python",
   "nbconvert_exporter": "python",
   "pygments_lexer": "ipython3",
   "version": "3.9.13"
  }
 },
 "nbformat": 4,
 "nbformat_minor": 5
}
